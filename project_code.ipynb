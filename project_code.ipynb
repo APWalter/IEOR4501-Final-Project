{
 "cells": [
  {
   "cell_type": "markdown",
   "id": "32f8ca24",
   "metadata": {},
   "source": [
    "# Understanding Hired Rides in NYC\n",
    "\n",
    "_[Project prompt](https://docs.google.com/document/d/1tGcX2qzS2GoaN5zFeD5DVJxqDmoQdmMs7QncZwFCEqU/edit#)_\n",
    "\n",
    "_This scaffolding notebook may be used to help setup your final project. It's totally optional whether you make use of this or not._\n",
    "\n",
    "_If you do use this notebook, everything provided is optional as well - you may remove or add prose and code as you wish._\n",
    "\n",
    "_Anything in italics (prose) or comments (in code) is meant to provide you with guidance. **Remove the italic lines and provided comments** before submitting the project, if you choose to use this scaffolding. We don't need the guidance when grading._\n",
    "\n",
    "_All code should be consider \"pseudo-code\" - not functional by itself, and only a suggestion at the approach._"
   ]
  },
  {
   "cell_type": "markdown",
   "id": "25627e8d",
   "metadata": {},
   "source": [
    "## Requirements\n",
    "\n",
    "_A checklist of requirements to keep you on track. Remove this whole cell before submitting the project._\n",
    "\n",
    "* Code clarity: make sure the code conforms to:\n",
    "    * [ ] [PEP 8](https://peps.python.org/pep-0008/) - You might find [this resource](https://realpython.com/python-pep8/) helpful as well as [this](https://github.com/dnanhkhoa/nb_black) or [this](https://jupyterlab-code-formatter.readthedocs.io/en/latest/) tool\n",
    "    * [ ] [PEP 257](https://peps.python.org/pep-0257/)\n",
    "    * [ ] Break each task down into logical functions\n",
    "* The following files are submitted for the project (see the project's GDoc for more details):\n",
    "    * [ ] `README.md`\n",
    "    * [ ] `requirements.txt`\n",
    "    * [ ] `.gitignore`\n",
    "    * [ ] `schema.sql`\n",
    "    * [ ] 6 query files (using the `.sql` extension), appropriately named for the purpose of the query\n",
    "    * [x] Jupyter Notebook containing the project (this file!)\n",
    "* [x] You can edit this cell and add a `x` inside the `[ ]` like this task to denote a completed task"
   ]
  },
  {
   "cell_type": "markdown",
   "id": "2f75fd94",
   "metadata": {},
   "source": [
    "## Project Setup"
   ]
  },
  {
   "cell_type": "code",
   "execution_count": 65,
   "id": "66dcde05",
   "metadata": {},
   "outputs": [],
   "source": [
    "# all import statements needed for the project, for example:\n",
    "\n",
    "import math\n",
    "\n",
    "from os.path import exists\n",
    "import bs4\n",
    "import matplotlib.pyplot as plt\n",
    "import pandas as pd\n",
    "import requests\n",
    "import sqlalchemy as db\n",
    "import json"
   ]
  },
  {
   "cell_type": "code",
   "execution_count": 66,
   "id": "8b622a58",
   "metadata": {},
   "outputs": [],
   "source": [
    "# any general notebook setup, like log formatting"
   ]
  },
  {
   "cell_type": "code",
   "execution_count": 67,
   "id": "3f1242c4",
   "metadata": {},
   "outputs": [],
   "source": [
    "# any constants you might need, for example:\n",
    "\n",
    "TAXI_URL = \"https://www1.nyc.gov/site/tlc/about/tlc-trip-record-data.page\"\n",
    "# add other constants to refer to any local data, e.g. uber & weather\n",
    "UBER_CSV = \"uber_rides_sample.csv\"\n",
    "\n",
    "NEW_YORK_BOX_COORDS = ((40.560445, -74.242330), (40.908524, -73.717047))\n",
    "\n",
    "DATABASE_URL = \"sqlite:///project.db\"\n",
    "DATABASE_SCHEMA_FILE = \"schema.sql\"\n",
    "QUERY_DIRECTORY = \"queries\""
   ]
  },
  {
   "cell_type": "markdown",
   "id": "26ad10ea",
   "metadata": {},
   "source": [
    "## Part 1: Data Preprocessing"
   ]
  },
  {
   "cell_type": "markdown",
   "id": "ecf38168",
   "metadata": {},
   "source": [
    "_A checklist of requirements to keep you on track. Remove this whole cell before submitting the project. The order of these tasks aren't necessarily the order in which they need to be done. It's okay to do them in an order that makes sense to you._\n",
    "\n",
    "* [ ] Define a function that calculates the distance between two coordinates in kilometers that **only uses the `math` module** from the standard library\n",
    "* [ ] Write at least one unit test that tests this distance calculation function. \n",
    "* Taxi data:\n",
    "    * [ ] Use `requests`, BeautifulSoup (`bs4`), and `pandas` to programmatically download the required CSV files & load into memory.\n",
    "    * [ ] Clean the data, including:\n",
    "        * Remove unnecessary columns\n",
    "        * Remove invalid data points (take a moment to consider what's invalid)\n",
    "        * Normalize column names\n",
    "        * Remove trips that start and/or end outside the designated [coordinate box](http://bboxfinder.com/#40.560445,-74.242330,40.908524,-73.717047)\n",
    "    * [ ] Sample the data so that you have roughly the same amount of data points over the given date range for both Taxi data and Uber data.\n",
    "    * You may need to do this one file at a time - download, clean, sample. You can cache the sampling by saving it as a CSV file (and thereby freeing up memory on your computer) before moving onto the next file. \n",
    "* Uber data:\n",
    "    * [ ] Download the data manually in the link provided in the project doc.\n",
    "    * [ ] Load the data from your local computer (using `pandas`), then clean the data, including: \n",
    "        * Remove unnecessary columns\n",
    "        * Remove invalid data points (take a moment to consider what's invalid)\n",
    "        * Normalize column names\n",
    "        * Remove trips that start and/or end outside the designated [coordinate box]\n",
    "* Using the function that calculates the distance between two coordinates in kilometers, add a column to each `pandas` DataFrame of data that calculates the distance between pickup and dropoff locations for each trip.\n",
    "* Weather data:\n",
    "    * [ ] Download the data manually in the link provided in the project doc.\n",
    "    * [ ] Load the data from your local computer (using `pandas`), then clean the data, including: \n",
    "        * Remove unnecessary columns\n",
    "        * Remove invalid data points (take a moment to consider what's invalid)\n",
    "        * Normalize column names\n",
    "        * Split into two `pandas` DataFrames: one for required hourly data, and one for the required daily daya.\n",
    "        * You may find that the weather data you need later on does not exist at the frequency needed (daily vs hourly). You may calculate/generate samples from one to populate the other. Just document what you’re doing so we can follow along. \n",
    "* Take a look at the lecture notes from the `pandas` lecture for hints on helpful functionality"
   ]
  },
  {
   "cell_type": "markdown",
   "id": "32074561",
   "metadata": {},
   "source": [
    "### Calculating distance\n",
    "_Write some prose that tells the reader what you're about to do here._"
   ]
  },
  {
   "cell_type": "code",
   "execution_count": 4,
   "id": "4cbbe6cc",
   "metadata": {},
   "outputs": [],
   "source": [
    "from math import sin, cos, sqrt, atan2, radians\n",
    "\n",
    "def calculate_distance(from_coord, to_coord):\n",
    "    '''\n",
    "    @param from_coord: Tuple of latitud/longitude coordinates in degrees\n",
    "    @param to_coord: Tuple of latitud/longitude coordinates in degrees\n",
    "    \n",
    "    @return Distance between two coordinates in Km\n",
    "    '''\n",
    "    # raise NotImplemented()\n",
    "\n",
    "    # approximate radius of earth in km\n",
    "    R = 6371.0\n",
    "\n",
    "    lat1 = radians(from_coord[0])\n",
    "    lon1 = radians(from_coord[1])\n",
    "    lat2 = radians(to_coord[0])\n",
    "    lon2 = radians(to_coord[1])\n",
    "\n",
    "    dlon = lon2 - lon1\n",
    "    dlat = lat2 - lat1\n",
    "\n",
    "    a = sin(dlat / 2)**2 + cos(lat1) * cos(lat2) * sin(dlon / 2)**2\n",
    "    c = 2 * atan2(sqrt(a), sqrt(1 - a))\n",
    "\n",
    "    distance = R * c\n",
    "\n",
    "    return distance\n",
    "\n"
   ]
  },
  {
   "cell_type": "code",
   "execution_count": 5,
   "id": "bee0343a",
   "metadata": {},
   "outputs": [],
   "source": [
    "def test_calculate_distance():\n",
    "    # raise NotImplemented()\n",
    "    expected = 58.79508979190137\n",
    "    actual = calculate_distance(NEW_YORK_BOX_COORDS[0], NEW_YORK_BOX_COORDS[1])\n",
    "    assert actual == expected\n",
    "test_calculate_distance()"
   ]
  },
  {
   "cell_type": "code",
   "execution_count": 6,
   "id": "6d6abf52",
   "metadata": {},
   "outputs": [],
   "source": [
    "def add_distance_column(dataframe):\n",
    "#     raise NotImplemented()\n",
    "    distances = []\n",
    "    for index, row in dataframe.iterrows():\n",
    "        distances.append(calculate_distance((row['pickup_longitude'], row['pickup_latitude']), (row['dropoff_longitude'], row['dropoff_latitude'])))\n",
    "    print(distances)\n",
    "    dataframe['distance'] = distances \n",
    "    return dataframe"
   ]
  },
  {
   "cell_type": "markdown",
   "id": "93daa717",
   "metadata": {},
   "source": [
    "### Processing Taxi Data\n",
    "\n",
    "_Write some prose that tells the reader what you're about to do here._"
   ]
  },
  {
   "cell_type": "code",
   "execution_count": 33,
   "id": "cbd0d198",
   "metadata": {},
   "outputs": [
    {
     "name": "stdout",
     "output_type": "stream",
     "text": [
      "https://s3.amazonaws.com/nyc-tlc/trip+data/yellow_tripdata_2009-01.csv\n"
     ]
    },
    {
     "ename": "OverflowError",
     "evalue": "signed integer is greater than maximum",
     "output_type": "error",
     "traceback": [
      "\u001b[0;31m---------------------------------------------------------------------------\u001b[0m",
      "\u001b[0;31mOverflowError\u001b[0m                             Traceback (most recent call last)",
      "\u001b[0;32m<ipython-input-33-b7baee74532b>\u001b[0m in \u001b[0;36m<module>\u001b[0;34m\u001b[0m\n\u001b[1;32m     43\u001b[0m     \u001b[0;32mreturn\u001b[0m \u001b[0mtaxi_data\u001b[0m\u001b[0;34m\u001b[0m\u001b[0;34m\u001b[0m\u001b[0m\n\u001b[1;32m     44\u001b[0m \u001b[0;34m\u001b[0m\u001b[0m\n\u001b[0;32m---> 45\u001b[0;31m \u001b[0mget_and_clean_taxi_data\u001b[0m\u001b[0;34m(\u001b[0m\u001b[0;34m)\u001b[0m\u001b[0;34m\u001b[0m\u001b[0;34m\u001b[0m\u001b[0m\n\u001b[0m",
      "\u001b[0;32m<ipython-input-33-b7baee74532b>\u001b[0m in \u001b[0;36mget_and_clean_taxi_data\u001b[0;34m()\u001b[0m\n\u001b[1;32m     32\u001b[0m         \u001b[0;31m# file already and saved it before trying again\u001b[0m\u001b[0;34m\u001b[0m\u001b[0;34m\u001b[0m\u001b[0;34m\u001b[0m\u001b[0m\n\u001b[1;32m     33\u001b[0m     \u001b[0mprint\u001b[0m\u001b[0;34m(\u001b[0m\u001b[0mall_csv_urls\u001b[0m\u001b[0;34m[\u001b[0m\u001b[0;36m0\u001b[0m\u001b[0;34m]\u001b[0m\u001b[0;34m)\u001b[0m\u001b[0;34m\u001b[0m\u001b[0;34m\u001b[0m\u001b[0m\n\u001b[0;32m---> 34\u001b[0;31m     \u001b[0mdataframe\u001b[0m \u001b[0;34m=\u001b[0m \u001b[0mget_and_clean_month_taxi_data\u001b[0m\u001b[0;34m(\u001b[0m\u001b[0mall_csv_urls\u001b[0m\u001b[0;34m[\u001b[0m\u001b[0;36m0\u001b[0m\u001b[0;34m]\u001b[0m\u001b[0;34m)\u001b[0m\u001b[0;34m\u001b[0m\u001b[0;34m\u001b[0m\u001b[0m\n\u001b[0m\u001b[1;32m     35\u001b[0m     \u001b[0madd_distance_column\u001b[0m\u001b[0;34m(\u001b[0m\u001b[0mdataframe\u001b[0m\u001b[0;34m)\u001b[0m\u001b[0;34m\u001b[0m\u001b[0;34m\u001b[0m\u001b[0m\n\u001b[1;32m     36\u001b[0m         \u001b[0;31m# maybe: if the file hasn't been saved, save it so you can\u001b[0m\u001b[0;34m\u001b[0m\u001b[0;34m\u001b[0m\u001b[0;34m\u001b[0m\u001b[0m\n",
      "\u001b[0;32m<ipython-input-33-b7baee74532b>\u001b[0m in \u001b[0;36mget_and_clean_month_taxi_data\u001b[0;34m(url)\u001b[0m\n\u001b[1;32m     19\u001b[0m \u001b[0;32mdef\u001b[0m \u001b[0mget_and_clean_month_taxi_data\u001b[0m\u001b[0;34m(\u001b[0m\u001b[0murl\u001b[0m\u001b[0;34m)\u001b[0m\u001b[0;34m:\u001b[0m\u001b[0;34m\u001b[0m\u001b[0;34m\u001b[0m\u001b[0m\n\u001b[1;32m     20\u001b[0m     \u001b[0;31m# raise NotImplemented()\u001b[0m\u001b[0;34m\u001b[0m\u001b[0;34m\u001b[0m\u001b[0;34m\u001b[0m\u001b[0m\n\u001b[0;32m---> 21\u001b[0;31m     \u001b[0mdf\u001b[0m \u001b[0;34m=\u001b[0m \u001b[0mpd\u001b[0m\u001b[0;34m.\u001b[0m\u001b[0mread_csv\u001b[0m\u001b[0;34m(\u001b[0m\u001b[0murl\u001b[0m\u001b[0;34m,\u001b[0m \u001b[0mnrows\u001b[0m \u001b[0;34m=\u001b[0m \u001b[0;36m10\u001b[0m\u001b[0;34m,\u001b[0m \u001b[0musecols\u001b[0m\u001b[0;34m=\u001b[0m\u001b[0;34m[\u001b[0m\u001b[0;34m'Trip_Pickup_DateTime'\u001b[0m\u001b[0;34m,\u001b[0m \u001b[0;34m'Trip_Dropoff_DateTime'\u001b[0m\u001b[0;34m,\u001b[0m \u001b[0;34m'Trip_Distance'\u001b[0m\u001b[0;34m]\u001b[0m\u001b[0;34m,\u001b[0m \u001b[0merror_bad_lines\u001b[0m\u001b[0;34m=\u001b[0m\u001b[0;32mFalse\u001b[0m\u001b[0;34m)\u001b[0m\u001b[0;34m\u001b[0m\u001b[0;34m\u001b[0m\u001b[0m\n\u001b[0m\u001b[1;32m     22\u001b[0m     \u001b[0mprint\u001b[0m\u001b[0;34m(\u001b[0m\u001b[0mdf\u001b[0m\u001b[0;34m)\u001b[0m\u001b[0;34m\u001b[0m\u001b[0;34m\u001b[0m\u001b[0m\n\u001b[1;32m     23\u001b[0m     \u001b[0;32mreturn\u001b[0m \u001b[0mdf\u001b[0m\u001b[0;34m\u001b[0m\u001b[0;34m\u001b[0m\u001b[0m\n",
      "\u001b[0;32m~/opt/anaconda3/lib/python3.8/site-packages/pandas/io/parsers.py\u001b[0m in \u001b[0;36mread_csv\u001b[0;34m(filepath_or_buffer, sep, delimiter, header, names, index_col, usecols, squeeze, prefix, mangle_dupe_cols, dtype, engine, converters, true_values, false_values, skipinitialspace, skiprows, skipfooter, nrows, na_values, keep_default_na, na_filter, verbose, skip_blank_lines, parse_dates, infer_datetime_format, keep_date_col, date_parser, dayfirst, cache_dates, iterator, chunksize, compression, thousands, decimal, lineterminator, quotechar, quoting, doublequote, escapechar, comment, encoding, dialect, error_bad_lines, warn_bad_lines, delim_whitespace, low_memory, memory_map, float_precision, storage_options)\u001b[0m\n\u001b[1;32m    608\u001b[0m     \u001b[0mkwds\u001b[0m\u001b[0;34m.\u001b[0m\u001b[0mupdate\u001b[0m\u001b[0;34m(\u001b[0m\u001b[0mkwds_defaults\u001b[0m\u001b[0;34m)\u001b[0m\u001b[0;34m\u001b[0m\u001b[0;34m\u001b[0m\u001b[0m\n\u001b[1;32m    609\u001b[0m \u001b[0;34m\u001b[0m\u001b[0m\n\u001b[0;32m--> 610\u001b[0;31m     \u001b[0;32mreturn\u001b[0m \u001b[0m_read\u001b[0m\u001b[0;34m(\u001b[0m\u001b[0mfilepath_or_buffer\u001b[0m\u001b[0;34m,\u001b[0m \u001b[0mkwds\u001b[0m\u001b[0;34m)\u001b[0m\u001b[0;34m\u001b[0m\u001b[0;34m\u001b[0m\u001b[0m\n\u001b[0m\u001b[1;32m    611\u001b[0m \u001b[0;34m\u001b[0m\u001b[0m\n\u001b[1;32m    612\u001b[0m \u001b[0;34m\u001b[0m\u001b[0m\n",
      "\u001b[0;32m~/opt/anaconda3/lib/python3.8/site-packages/pandas/io/parsers.py\u001b[0m in \u001b[0;36m_read\u001b[0;34m(filepath_or_buffer, kwds)\u001b[0m\n\u001b[1;32m    460\u001b[0m \u001b[0;34m\u001b[0m\u001b[0m\n\u001b[1;32m    461\u001b[0m     \u001b[0;31m# Create the parser.\u001b[0m\u001b[0;34m\u001b[0m\u001b[0;34m\u001b[0m\u001b[0;34m\u001b[0m\u001b[0m\n\u001b[0;32m--> 462\u001b[0;31m     \u001b[0mparser\u001b[0m \u001b[0;34m=\u001b[0m \u001b[0mTextFileReader\u001b[0m\u001b[0;34m(\u001b[0m\u001b[0mfilepath_or_buffer\u001b[0m\u001b[0;34m,\u001b[0m \u001b[0;34m**\u001b[0m\u001b[0mkwds\u001b[0m\u001b[0;34m)\u001b[0m\u001b[0;34m\u001b[0m\u001b[0;34m\u001b[0m\u001b[0m\n\u001b[0m\u001b[1;32m    463\u001b[0m \u001b[0;34m\u001b[0m\u001b[0m\n\u001b[1;32m    464\u001b[0m     \u001b[0;32mif\u001b[0m \u001b[0mchunksize\u001b[0m \u001b[0;32mor\u001b[0m \u001b[0miterator\u001b[0m\u001b[0;34m:\u001b[0m\u001b[0;34m\u001b[0m\u001b[0;34m\u001b[0m\u001b[0m\n",
      "\u001b[0;32m~/opt/anaconda3/lib/python3.8/site-packages/pandas/io/parsers.py\u001b[0m in \u001b[0;36m__init__\u001b[0;34m(self, f, engine, **kwds)\u001b[0m\n\u001b[1;32m    817\u001b[0m             \u001b[0mself\u001b[0m\u001b[0;34m.\u001b[0m\u001b[0moptions\u001b[0m\u001b[0;34m[\u001b[0m\u001b[0;34m\"has_index_names\"\u001b[0m\u001b[0;34m]\u001b[0m \u001b[0;34m=\u001b[0m \u001b[0mkwds\u001b[0m\u001b[0;34m[\u001b[0m\u001b[0;34m\"has_index_names\"\u001b[0m\u001b[0;34m]\u001b[0m\u001b[0;34m\u001b[0m\u001b[0;34m\u001b[0m\u001b[0m\n\u001b[1;32m    818\u001b[0m \u001b[0;34m\u001b[0m\u001b[0m\n\u001b[0;32m--> 819\u001b[0;31m         \u001b[0mself\u001b[0m\u001b[0;34m.\u001b[0m\u001b[0m_engine\u001b[0m \u001b[0;34m=\u001b[0m \u001b[0mself\u001b[0m\u001b[0;34m.\u001b[0m\u001b[0m_make_engine\u001b[0m\u001b[0;34m(\u001b[0m\u001b[0mself\u001b[0m\u001b[0;34m.\u001b[0m\u001b[0mengine\u001b[0m\u001b[0;34m)\u001b[0m\u001b[0;34m\u001b[0m\u001b[0;34m\u001b[0m\u001b[0m\n\u001b[0m\u001b[1;32m    820\u001b[0m \u001b[0;34m\u001b[0m\u001b[0m\n\u001b[1;32m    821\u001b[0m     \u001b[0;32mdef\u001b[0m \u001b[0mclose\u001b[0m\u001b[0;34m(\u001b[0m\u001b[0mself\u001b[0m\u001b[0;34m)\u001b[0m\u001b[0;34m:\u001b[0m\u001b[0;34m\u001b[0m\u001b[0;34m\u001b[0m\u001b[0m\n",
      "\u001b[0;32m~/opt/anaconda3/lib/python3.8/site-packages/pandas/io/parsers.py\u001b[0m in \u001b[0;36m_make_engine\u001b[0;34m(self, engine)\u001b[0m\n\u001b[1;32m   1048\u001b[0m             )\n\u001b[1;32m   1049\u001b[0m         \u001b[0;31m# error: Too many arguments for \"ParserBase\"\u001b[0m\u001b[0;34m\u001b[0m\u001b[0;34m\u001b[0m\u001b[0;34m\u001b[0m\u001b[0m\n\u001b[0;32m-> 1050\u001b[0;31m         \u001b[0;32mreturn\u001b[0m \u001b[0mmapping\u001b[0m\u001b[0;34m[\u001b[0m\u001b[0mengine\u001b[0m\u001b[0;34m]\u001b[0m\u001b[0;34m(\u001b[0m\u001b[0mself\u001b[0m\u001b[0;34m.\u001b[0m\u001b[0mf\u001b[0m\u001b[0;34m,\u001b[0m \u001b[0;34m**\u001b[0m\u001b[0mself\u001b[0m\u001b[0;34m.\u001b[0m\u001b[0moptions\u001b[0m\u001b[0;34m)\u001b[0m  \u001b[0;31m# type: ignore[call-arg]\u001b[0m\u001b[0;34m\u001b[0m\u001b[0;34m\u001b[0m\u001b[0m\n\u001b[0m\u001b[1;32m   1051\u001b[0m \u001b[0;34m\u001b[0m\u001b[0m\n\u001b[1;32m   1052\u001b[0m     \u001b[0;32mdef\u001b[0m \u001b[0m_failover_to_python\u001b[0m\u001b[0;34m(\u001b[0m\u001b[0mself\u001b[0m\u001b[0;34m)\u001b[0m\u001b[0;34m:\u001b[0m\u001b[0;34m\u001b[0m\u001b[0;34m\u001b[0m\u001b[0m\n",
      "\u001b[0;32m~/opt/anaconda3/lib/python3.8/site-packages/pandas/io/parsers.py\u001b[0m in \u001b[0;36m__init__\u001b[0;34m(self, src, **kwds)\u001b[0m\n\u001b[1;32m   1865\u001b[0m \u001b[0;34m\u001b[0m\u001b[0m\n\u001b[1;32m   1866\u001b[0m         \u001b[0;31m# open handles\u001b[0m\u001b[0;34m\u001b[0m\u001b[0;34m\u001b[0m\u001b[0;34m\u001b[0m\u001b[0m\n\u001b[0;32m-> 1867\u001b[0;31m         \u001b[0mself\u001b[0m\u001b[0;34m.\u001b[0m\u001b[0m_open_handles\u001b[0m\u001b[0;34m(\u001b[0m\u001b[0msrc\u001b[0m\u001b[0;34m,\u001b[0m \u001b[0mkwds\u001b[0m\u001b[0;34m)\u001b[0m\u001b[0;34m\u001b[0m\u001b[0;34m\u001b[0m\u001b[0m\n\u001b[0m\u001b[1;32m   1868\u001b[0m         \u001b[0;32massert\u001b[0m \u001b[0mself\u001b[0m\u001b[0;34m.\u001b[0m\u001b[0mhandles\u001b[0m \u001b[0;32mis\u001b[0m \u001b[0;32mnot\u001b[0m \u001b[0;32mNone\u001b[0m\u001b[0;34m\u001b[0m\u001b[0;34m\u001b[0m\u001b[0m\n\u001b[1;32m   1869\u001b[0m         \u001b[0;32mfor\u001b[0m \u001b[0mkey\u001b[0m \u001b[0;32min\u001b[0m \u001b[0;34m(\u001b[0m\u001b[0;34m\"storage_options\"\u001b[0m\u001b[0;34m,\u001b[0m \u001b[0;34m\"encoding\"\u001b[0m\u001b[0;34m,\u001b[0m \u001b[0;34m\"memory_map\"\u001b[0m\u001b[0;34m,\u001b[0m \u001b[0;34m\"compression\"\u001b[0m\u001b[0;34m)\u001b[0m\u001b[0;34m:\u001b[0m\u001b[0;34m\u001b[0m\u001b[0;34m\u001b[0m\u001b[0m\n",
      "\u001b[0;32m~/opt/anaconda3/lib/python3.8/site-packages/pandas/io/parsers.py\u001b[0m in \u001b[0;36m_open_handles\u001b[0;34m(self, src, kwds)\u001b[0m\n\u001b[1;32m   1360\u001b[0m         \u001b[0mLet\u001b[0m \u001b[0mthe\u001b[0m \u001b[0mreaders\u001b[0m \u001b[0mopen\u001b[0m \u001b[0mIOHanldes\u001b[0m \u001b[0mafter\u001b[0m \u001b[0mthey\u001b[0m \u001b[0mare\u001b[0m \u001b[0mdone\u001b[0m \u001b[0;32mwith\u001b[0m \u001b[0mtheir\u001b[0m \u001b[0mpotential\u001b[0m \u001b[0mraises\u001b[0m\u001b[0;34m.\u001b[0m\u001b[0;34m\u001b[0m\u001b[0;34m\u001b[0m\u001b[0m\n\u001b[1;32m   1361\u001b[0m         \"\"\"\n\u001b[0;32m-> 1362\u001b[0;31m         self.handles = get_handle(\n\u001b[0m\u001b[1;32m   1363\u001b[0m             \u001b[0msrc\u001b[0m\u001b[0;34m,\u001b[0m\u001b[0;34m\u001b[0m\u001b[0;34m\u001b[0m\u001b[0m\n\u001b[1;32m   1364\u001b[0m             \u001b[0;34m\"r\"\u001b[0m\u001b[0;34m,\u001b[0m\u001b[0;34m\u001b[0m\u001b[0;34m\u001b[0m\u001b[0m\n",
      "\u001b[0;32m~/opt/anaconda3/lib/python3.8/site-packages/pandas/io/common.py\u001b[0m in \u001b[0;36mget_handle\u001b[0;34m(path_or_buf, mode, encoding, compression, memory_map, is_text, errors, storage_options)\u001b[0m\n\u001b[1;32m    556\u001b[0m \u001b[0;34m\u001b[0m\u001b[0m\n\u001b[1;32m    557\u001b[0m     \u001b[0;31m# open URLs\u001b[0m\u001b[0;34m\u001b[0m\u001b[0;34m\u001b[0m\u001b[0;34m\u001b[0m\u001b[0m\n\u001b[0;32m--> 558\u001b[0;31m     ioargs = _get_filepath_or_buffer(\n\u001b[0m\u001b[1;32m    559\u001b[0m         \u001b[0mpath_or_buf\u001b[0m\u001b[0;34m,\u001b[0m\u001b[0;34m\u001b[0m\u001b[0;34m\u001b[0m\u001b[0m\n\u001b[1;32m    560\u001b[0m         \u001b[0mencoding\u001b[0m\u001b[0;34m=\u001b[0m\u001b[0mencoding\u001b[0m\u001b[0;34m,\u001b[0m\u001b[0;34m\u001b[0m\u001b[0;34m\u001b[0m\u001b[0m\n",
      "\u001b[0;32m~/opt/anaconda3/lib/python3.8/site-packages/pandas/io/common.py\u001b[0m in \u001b[0;36m_get_filepath_or_buffer\u001b[0;34m(filepath_or_buffer, encoding, compression, mode, storage_options)\u001b[0m\n\u001b[1;32m    292\u001b[0m             \u001b[0;31m# Override compression based on Content-Encoding header\u001b[0m\u001b[0;34m\u001b[0m\u001b[0;34m\u001b[0m\u001b[0;34m\u001b[0m\u001b[0m\n\u001b[1;32m    293\u001b[0m             \u001b[0mcompression\u001b[0m \u001b[0;34m=\u001b[0m \u001b[0;34m{\u001b[0m\u001b[0;34m\"method\"\u001b[0m\u001b[0;34m:\u001b[0m \u001b[0;34m\"gzip\"\u001b[0m\u001b[0;34m}\u001b[0m\u001b[0;34m\u001b[0m\u001b[0;34m\u001b[0m\u001b[0m\n\u001b[0;32m--> 294\u001b[0;31m         \u001b[0mreader\u001b[0m \u001b[0;34m=\u001b[0m \u001b[0mBytesIO\u001b[0m\u001b[0;34m(\u001b[0m\u001b[0mreq\u001b[0m\u001b[0;34m.\u001b[0m\u001b[0mread\u001b[0m\u001b[0;34m(\u001b[0m\u001b[0;34m)\u001b[0m\u001b[0;34m)\u001b[0m\u001b[0;34m\u001b[0m\u001b[0;34m\u001b[0m\u001b[0m\n\u001b[0m\u001b[1;32m    295\u001b[0m         \u001b[0mreq\u001b[0m\u001b[0;34m.\u001b[0m\u001b[0mclose\u001b[0m\u001b[0;34m(\u001b[0m\u001b[0;34m)\u001b[0m\u001b[0;34m\u001b[0m\u001b[0;34m\u001b[0m\u001b[0m\n\u001b[1;32m    296\u001b[0m         return IOArgs(\n",
      "\u001b[0;32m~/opt/anaconda3/lib/python3.8/http/client.py\u001b[0m in \u001b[0;36mread\u001b[0;34m(self, amt)\u001b[0m\n\u001b[1;32m    469\u001b[0m             \u001b[0;32melse\u001b[0m\u001b[0;34m:\u001b[0m\u001b[0;34m\u001b[0m\u001b[0;34m\u001b[0m\u001b[0m\n\u001b[1;32m    470\u001b[0m                 \u001b[0;32mtry\u001b[0m\u001b[0;34m:\u001b[0m\u001b[0;34m\u001b[0m\u001b[0;34m\u001b[0m\u001b[0m\n\u001b[0;32m--> 471\u001b[0;31m                     \u001b[0ms\u001b[0m \u001b[0;34m=\u001b[0m \u001b[0mself\u001b[0m\u001b[0;34m.\u001b[0m\u001b[0m_safe_read\u001b[0m\u001b[0;34m(\u001b[0m\u001b[0mself\u001b[0m\u001b[0;34m.\u001b[0m\u001b[0mlength\u001b[0m\u001b[0;34m)\u001b[0m\u001b[0;34m\u001b[0m\u001b[0;34m\u001b[0m\u001b[0m\n\u001b[0m\u001b[1;32m    472\u001b[0m                 \u001b[0;32mexcept\u001b[0m \u001b[0mIncompleteRead\u001b[0m\u001b[0;34m:\u001b[0m\u001b[0;34m\u001b[0m\u001b[0;34m\u001b[0m\u001b[0m\n\u001b[1;32m    473\u001b[0m                     \u001b[0mself\u001b[0m\u001b[0;34m.\u001b[0m\u001b[0m_close_conn\u001b[0m\u001b[0;34m(\u001b[0m\u001b[0;34m)\u001b[0m\u001b[0;34m\u001b[0m\u001b[0;34m\u001b[0m\u001b[0m\n",
      "\u001b[0;32m~/opt/anaconda3/lib/python3.8/http/client.py\u001b[0m in \u001b[0;36m_safe_read\u001b[0;34m(self, amt)\u001b[0m\n\u001b[1;32m    610\u001b[0m         \u001b[0mIncompleteRead\u001b[0m \u001b[0mexception\u001b[0m \u001b[0mcan\u001b[0m \u001b[0mbe\u001b[0m \u001b[0mused\u001b[0m \u001b[0mto\u001b[0m \u001b[0mdetect\u001b[0m \u001b[0mthe\u001b[0m \u001b[0mproblem\u001b[0m\u001b[0;34m.\u001b[0m\u001b[0;34m\u001b[0m\u001b[0;34m\u001b[0m\u001b[0m\n\u001b[1;32m    611\u001b[0m         \"\"\"\n\u001b[0;32m--> 612\u001b[0;31m         \u001b[0mdata\u001b[0m \u001b[0;34m=\u001b[0m \u001b[0mself\u001b[0m\u001b[0;34m.\u001b[0m\u001b[0mfp\u001b[0m\u001b[0;34m.\u001b[0m\u001b[0mread\u001b[0m\u001b[0;34m(\u001b[0m\u001b[0mamt\u001b[0m\u001b[0;34m)\u001b[0m\u001b[0;34m\u001b[0m\u001b[0;34m\u001b[0m\u001b[0m\n\u001b[0m\u001b[1;32m    613\u001b[0m         \u001b[0;32mif\u001b[0m \u001b[0mlen\u001b[0m\u001b[0;34m(\u001b[0m\u001b[0mdata\u001b[0m\u001b[0;34m)\u001b[0m \u001b[0;34m<\u001b[0m \u001b[0mamt\u001b[0m\u001b[0;34m:\u001b[0m\u001b[0;34m\u001b[0m\u001b[0;34m\u001b[0m\u001b[0m\n\u001b[1;32m    614\u001b[0m             \u001b[0;32mraise\u001b[0m \u001b[0mIncompleteRead\u001b[0m\u001b[0;34m(\u001b[0m\u001b[0mdata\u001b[0m\u001b[0;34m,\u001b[0m \u001b[0mamt\u001b[0m\u001b[0;34m-\u001b[0m\u001b[0mlen\u001b[0m\u001b[0;34m(\u001b[0m\u001b[0mdata\u001b[0m\u001b[0;34m)\u001b[0m\u001b[0;34m)\u001b[0m\u001b[0;34m\u001b[0m\u001b[0;34m\u001b[0m\u001b[0m\n",
      "\u001b[0;32m~/opt/anaconda3/lib/python3.8/socket.py\u001b[0m in \u001b[0;36mreadinto\u001b[0;34m(self, b)\u001b[0m\n\u001b[1;32m    667\u001b[0m         \u001b[0;32mwhile\u001b[0m \u001b[0;32mTrue\u001b[0m\u001b[0;34m:\u001b[0m\u001b[0;34m\u001b[0m\u001b[0;34m\u001b[0m\u001b[0m\n\u001b[1;32m    668\u001b[0m             \u001b[0;32mtry\u001b[0m\u001b[0;34m:\u001b[0m\u001b[0;34m\u001b[0m\u001b[0;34m\u001b[0m\u001b[0m\n\u001b[0;32m--> 669\u001b[0;31m                 \u001b[0;32mreturn\u001b[0m \u001b[0mself\u001b[0m\u001b[0;34m.\u001b[0m\u001b[0m_sock\u001b[0m\u001b[0;34m.\u001b[0m\u001b[0mrecv_into\u001b[0m\u001b[0;34m(\u001b[0m\u001b[0mb\u001b[0m\u001b[0;34m)\u001b[0m\u001b[0;34m\u001b[0m\u001b[0;34m\u001b[0m\u001b[0m\n\u001b[0m\u001b[1;32m    670\u001b[0m             \u001b[0;32mexcept\u001b[0m \u001b[0mtimeout\u001b[0m\u001b[0;34m:\u001b[0m\u001b[0;34m\u001b[0m\u001b[0;34m\u001b[0m\u001b[0m\n\u001b[1;32m    671\u001b[0m                 \u001b[0mself\u001b[0m\u001b[0;34m.\u001b[0m\u001b[0m_timeout_occurred\u001b[0m \u001b[0;34m=\u001b[0m \u001b[0;32mTrue\u001b[0m\u001b[0;34m\u001b[0m\u001b[0;34m\u001b[0m\u001b[0m\n",
      "\u001b[0;32m~/opt/anaconda3/lib/python3.8/ssl.py\u001b[0m in \u001b[0;36mrecv_into\u001b[0;34m(self, buffer, nbytes, flags)\u001b[0m\n\u001b[1;32m   1239\u001b[0m                   \u001b[0;34m\"non-zero flags not allowed in calls to recv_into() on %s\"\u001b[0m \u001b[0;34m%\u001b[0m\u001b[0;34m\u001b[0m\u001b[0;34m\u001b[0m\u001b[0m\n\u001b[1;32m   1240\u001b[0m                   self.__class__)\n\u001b[0;32m-> 1241\u001b[0;31m             \u001b[0;32mreturn\u001b[0m \u001b[0mself\u001b[0m\u001b[0;34m.\u001b[0m\u001b[0mread\u001b[0m\u001b[0;34m(\u001b[0m\u001b[0mnbytes\u001b[0m\u001b[0;34m,\u001b[0m \u001b[0mbuffer\u001b[0m\u001b[0;34m)\u001b[0m\u001b[0;34m\u001b[0m\u001b[0;34m\u001b[0m\u001b[0m\n\u001b[0m\u001b[1;32m   1242\u001b[0m         \u001b[0;32melse\u001b[0m\u001b[0;34m:\u001b[0m\u001b[0;34m\u001b[0m\u001b[0;34m\u001b[0m\u001b[0m\n\u001b[1;32m   1243\u001b[0m             \u001b[0;32mreturn\u001b[0m \u001b[0msuper\u001b[0m\u001b[0;34m(\u001b[0m\u001b[0;34m)\u001b[0m\u001b[0;34m.\u001b[0m\u001b[0mrecv_into\u001b[0m\u001b[0;34m(\u001b[0m\u001b[0mbuffer\u001b[0m\u001b[0;34m,\u001b[0m \u001b[0mnbytes\u001b[0m\u001b[0;34m,\u001b[0m \u001b[0mflags\u001b[0m\u001b[0;34m)\u001b[0m\u001b[0;34m\u001b[0m\u001b[0;34m\u001b[0m\u001b[0m\n",
      "\u001b[0;32m~/opt/anaconda3/lib/python3.8/ssl.py\u001b[0m in \u001b[0;36mread\u001b[0;34m(self, len, buffer)\u001b[0m\n\u001b[1;32m   1097\u001b[0m         \u001b[0;32mtry\u001b[0m\u001b[0;34m:\u001b[0m\u001b[0;34m\u001b[0m\u001b[0;34m\u001b[0m\u001b[0m\n\u001b[1;32m   1098\u001b[0m             \u001b[0;32mif\u001b[0m \u001b[0mbuffer\u001b[0m \u001b[0;32mis\u001b[0m \u001b[0;32mnot\u001b[0m \u001b[0;32mNone\u001b[0m\u001b[0;34m:\u001b[0m\u001b[0;34m\u001b[0m\u001b[0;34m\u001b[0m\u001b[0m\n\u001b[0;32m-> 1099\u001b[0;31m                 \u001b[0;32mreturn\u001b[0m \u001b[0mself\u001b[0m\u001b[0;34m.\u001b[0m\u001b[0m_sslobj\u001b[0m\u001b[0;34m.\u001b[0m\u001b[0mread\u001b[0m\u001b[0;34m(\u001b[0m\u001b[0mlen\u001b[0m\u001b[0;34m,\u001b[0m \u001b[0mbuffer\u001b[0m\u001b[0;34m)\u001b[0m\u001b[0;34m\u001b[0m\u001b[0;34m\u001b[0m\u001b[0m\n\u001b[0m\u001b[1;32m   1100\u001b[0m             \u001b[0;32melse\u001b[0m\u001b[0;34m:\u001b[0m\u001b[0;34m\u001b[0m\u001b[0;34m\u001b[0m\u001b[0m\n\u001b[1;32m   1101\u001b[0m                 \u001b[0;32mreturn\u001b[0m \u001b[0mself\u001b[0m\u001b[0;34m.\u001b[0m\u001b[0m_sslobj\u001b[0m\u001b[0;34m.\u001b[0m\u001b[0mread\u001b[0m\u001b[0;34m(\u001b[0m\u001b[0mlen\u001b[0m\u001b[0;34m)\u001b[0m\u001b[0;34m\u001b[0m\u001b[0;34m\u001b[0m\u001b[0m\n",
      "\u001b[0;31mOverflowError\u001b[0m: signed integer is greater than maximum"
     ]
    }
   ],
   "source": [
    "def find_taxi_csv_urls():\n",
    "    #  raise NotImplemented()\n",
    "    response = requests.get(TAXI_URL)\n",
    "    soup = bs4.BeautifulSoup(response.text, \"html.parser\")\n",
    "    a_tags = soup.find_all(lambda tag:tag.name == 'a' and 'title' in tag.attrs and tag.attrs['title'] == \"Yellow Taxi Trip Records\")\n",
    "    hrefs = [a['href'] for a in a_tags]\n",
    "    hrefs_years=[]\n",
    "    year = 2009\n",
    "    for i in range(1, 7):\n",
    "        hrefs_years.extend(list( filter(lambda href: str(year) in href, hrefs)))\n",
    "        year += 1\n",
    "    hrefs_2015 = []\n",
    "    hrefs_2015.extend(list( filter(lambda href: '2015' in href, hrefs)))\n",
    "    for i in range(6):\n",
    "        hrefs_2015.pop()\n",
    "    all_hrefs = hrefs_years + hrefs_2015 \n",
    "    return all_hrefs\n",
    "\n",
    "def get_and_clean_month_taxi_data(url):\n",
    "    # raise NotImplemented()\n",
    "    df = pd.read_csv(url) \n",
    "    df.columns = df.columns.str.lower()\n",
    "    if 'trip_dropoff_datetime' in df.columns: \n",
    "        df=df.rename(columns = {'trip_dropoff_datetime':'dropoff_datetime'})\n",
    "    \n",
    "    if 'trip_pickup_datetime' in df.columns:\n",
    "        df=df.rename(columns = {'trip_pickup_datetime':'pickup_datetime'})\n",
    "\n",
    "    \n",
    "    df.drop(df.columns.difference(['pickup_datetime','dropoff_datetime', 'trip_distance']), 1, inplace=True)\n",
    "    #usecols=['Trip_Pickup_DateTime', 'Trip_Dropoff_DateTime', 'Trip_Distance'])\n",
    "    return df\n",
    "    \n",
    "def add_taxi_distance_column(dataframe):\n",
    "#     raise NotImplemented()\n",
    "    distances = []\n",
    "    for index, row in dataframe.iterrows():\n",
    "        distances.append(row['trip_distance'] * 1.60934)\n",
    "    dataframe['distance'] = distances    \n",
    "    return dataframe\n",
    "    \n",
    "def get_and_clean_taxi_data():\n",
    "    all_taxi_dataframes = []\n",
    "    \n",
    "    all_csv_urls = find_taxi_csv_urls()\n",
    "    for csv_url in all_csv_urls:\n",
    "        # maybe: first try to see if you've downloaded this exact\n",
    "        # file already and saved it before trying again\n",
    "        if exists(f'taxi_data_{all_csv_urls.index(csv_url)}.csv'):\n",
    "            dataframe = pd.read_csv(f'taxi_data_{all_csv_urls.index(csv_url)}.csv')\n",
    "            add_taxi_distance_column(dataframe)\n",
    "        else:\n",
    "            dataframe = get_and_clean_month_taxi_data(csv_url)\n",
    "            dataframe = dataframe.sample(n=2500, random_state=2)\n",
    "            add_taxi_distance_column(dataframe)\n",
    "            dataframe.to_csv(f'taxi_data_{all_csv_urls.index(csv_url)}.csv', index=False)\n",
    "        # maybe: if the file hasn't been saved, save it so you can\n",
    "        # avoid re-downloading it if you re-run the function\n",
    "        \n",
    "    all_taxi_dataframes.append(dataframe)\n",
    "        \n",
    "    # create one gigantic dataframe with data from every month needed\n",
    "    taxi_data = pd.concat(all_taxi_dataframes)\n",
    "    return taxi_data\n",
    "\n",
    "get_and_clean_taxi_data()"
   ]
  },
  {
   "cell_type": "markdown",
   "id": "094b4d6d",
   "metadata": {},
   "source": [
    "### Processing Uber Data\n",
    "\n",
    "_Write some prose that tells the reader what you're about to do here._"
   ]
  },
  {
   "cell_type": "code",
   "execution_count": 7,
   "id": "7c58e3a2",
   "metadata": {},
   "outputs": [],
   "source": [
    "def load_and_clean_uber_data(csv_file):\n",
    "#     raise NotImplemented()\n",
    "    df = pd.read_csv(csv_file)\n",
    "    df.drop(['passenger_count', 'key', 'fare_amount'], axis = 1, inplace = True)\n",
    "    df = df.iloc[: , 1:]\n",
    "    df.drop(df[df['pickup_longitude'] < -74.242330].index.intersection(df[df['pickup_longitude'] > -73.717047].index), inplace=True)\n",
    "    df.drop(df[df['dropoff_longitude'] < -74.242330].index.intersection(df[df['dropoff_longitude'] > -73.717047].index), inplace=True)\n",
    "    df.drop(df[df['pickup_latitude'] < 40.560445].index.intersection(df[df['pickup_latitude'] > 40.908524].index), inplace=True)\n",
    "    df.drop(df[df['dropoff_latitude'] < 40.560445].index.intersection(df[df['dropoff_latitude'] > 40.908524].index), inplace=True)\n",
    "    return df\n",
    "    \n",
    "def get_uber_data():\n",
    "    uber_dataframe = load_and_clean_uber_data(UBER_CSV)\n",
    "    add_distance_column(uber_dataframe)\n",
    "    return uber_dataframe\n",
    "# get_uber_data()"
   ]
  },
  {
   "cell_type": "markdown",
   "id": "45a15cbb",
   "metadata": {},
   "source": [
    "### Processing Weather Data\n",
    "\n",
    "_Write some prose that tells the reader what you're about to do here._"
   ]
  },
  {
   "cell_type": "code",
   "execution_count": 8,
   "id": "76e864ab",
   "metadata": {},
   "outputs": [],
   "source": [
    "def clean_month_weather_data_hourly(csv_file):\n",
    "#     raise NotImplemented()\n",
    "    df = pd.read_csv(csv_file)\n",
    "    df.drop(df.columns.difference(['DATE','HourlyPrecipitation', 'HourlyWindSpeed']), 1, inplace=True)\n",
    "#     df['HourlyPrecipitation'] = df['HourlyPrecipitation'].fillna(-1)\n",
    "#     df['HourlyPrecipitation'] = df['HourlyPrecipitation'].apply(lambda x: df.loc[df.HourlyPrecipitation != 'T', 'HourlyPrecipitation'].astype('float').mean())\n",
    "    df['HourlyPrecipitation'] = df['HourlyPrecipitation'].replace('T', 0.00)\n",
    "    df['HourlyPrecipitation'] = df['HourlyPrecipitation'].str.replace(r's', '')\n",
    "    df['HourlyPrecipitation'] = df['HourlyPrecipitation'].fillna(0.00)\n",
    "    df['HourlyWindSpeed'] = df['HourlyWindSpeed'].fillna(df['HourlyWindSpeed'].astype(float).mean())\n",
    "    return df\n",
    "    \n",
    "def clean_month_weather_data_daily(csv_file):\n",
    "#     raise NotImplemented()\n",
    "    df = pd.read_csv(csv_file)\n",
    "    df.drop(df.columns.difference(['DATE','DailyAverageWindSpeed']), 1, inplace=True)\n",
    "    df = df[df.DATE.str.contains(\"23:59:00\")]\n",
    "    df['DailyAverageWindSpeed'] = df['DailyAverageWindSpeed'].fillna(df['DailyAverageWindSpeed'].astype(float).mean())\n",
    "    return df\n",
    "    \n",
    "\n",
    "def load_and_clean_weather_data():\n",
    "    hourly_dataframes = []\n",
    "    daily_dataframes = []\n",
    "    \n",
    "    # add some way to find all weather CSV files\n",
    "    # or just add the name/paths manually\n",
    "    weather_csv_files = \\\n",
    "        [\n",
    "            \"weather/weather_2009.csv\",\n",
    "            \"weather/weather_2010.csv\",\n",
    "            \"weather/weather_2011.csv\",\n",
    "            \"weather/weather_2012.csv\",\n",
    "            \"weather/weather_2013.csv\",\n",
    "            \"weather/weather_2014.csv\",\n",
    "            \"weather/weather_2015.csv\"\n",
    "        ]\n",
    "    \n",
    "    for csv_file in weather_csv_files:\n",
    "        hourly_dataframe = clean_month_weather_data_hourly(csv_file)\n",
    "        daily_dataframe = clean_month_weather_data_daily(csv_file)\n",
    "        hourly_dataframes.append(hourly_dataframe)\n",
    "        daily_dataframes.append(daily_dataframe)\n",
    "        \n",
    "    # create two dataframes with hourly & daily data from every month\n",
    "    hourly_data = pd.concat(hourly_dataframes)\n",
    "    daily_data = pd.concat(daily_dataframes)\n",
    "    return hourly_data, daily_data\n",
    "# load_and_clean_weather_data()"
   ]
  },
  {
   "cell_type": "markdown",
   "id": "f900f7aa",
   "metadata": {},
   "source": [
    "### Process All Data\n",
    "\n",
    "_This is where you can actually execute all the required functions._\n",
    "\n",
    "_Write some prose that tells the reader what you're about to do here._"
   ]
  },
  {
   "cell_type": "code",
   "execution_count": 9,
   "id": "f7cd53a6",
   "metadata": {},
   "outputs": [
    {
     "name": "stderr",
     "output_type": "stream",
     "text": [
      "IOPub data rate exceeded.\n",
      "The notebook server will temporarily stop sending output\n",
      "to the client in order to avoid crashing it.\n",
      "To change this limit, set the config variable\n",
      "`--NotebookApp.iopub_data_rate_limit`.\n",
      "\n",
      "Current values:\n",
      "NotebookApp.iopub_data_rate_limit=1000000.0 (bytes/sec)\n",
      "NotebookApp.rate_limit_window=3.0 (secs)\n",
      "\n",
      "/var/folders/bd/k3x2fr1d0qnb1y68htn6g7wc0000gn/T/ipykernel_21179/133158462.py:40: DtypeWarning: Columns (9,13,41,64,78) have mixed types.Specify dtype option on import or set low_memory=False.\n",
      "  hourly_dataframe = clean_month_weather_data_hourly(csv_file)\n",
      "/var/folders/bd/k3x2fr1d0qnb1y68htn6g7wc0000gn/T/ipykernel_21179/133158462.py:4: FutureWarning: In a future version of pandas all arguments of DataFrame.drop except for the argument 'labels' will be keyword-only\n",
      "  df.drop(df.columns.difference(['DATE','HourlyPrecipitation', 'HourlyWindSpeed']), 1, inplace=True)\n",
      "/var/folders/bd/k3x2fr1d0qnb1y68htn6g7wc0000gn/T/ipykernel_21179/133158462.py:41: DtypeWarning: Columns (9,13,41,64,78) have mixed types.Specify dtype option on import or set low_memory=False.\n",
      "  daily_dataframe = clean_month_weather_data_daily(csv_file)\n",
      "/var/folders/bd/k3x2fr1d0qnb1y68htn6g7wc0000gn/T/ipykernel_21179/133158462.py:16: FutureWarning: In a future version of pandas all arguments of DataFrame.drop except for the argument 'labels' will be keyword-only\n",
      "  df.drop(df.columns.difference(['DATE','DailyAverageWindSpeed']), 1, inplace=True)\n",
      "/var/folders/bd/k3x2fr1d0qnb1y68htn6g7wc0000gn/T/ipykernel_21179/133158462.py:40: DtypeWarning: Columns (8,17,18,19,64) have mixed types.Specify dtype option on import or set low_memory=False.\n",
      "  hourly_dataframe = clean_month_weather_data_hourly(csv_file)\n",
      "/var/folders/bd/k3x2fr1d0qnb1y68htn6g7wc0000gn/T/ipykernel_21179/133158462.py:41: DtypeWarning: Columns (8,17,18,19,64) have mixed types.Specify dtype option on import or set low_memory=False.\n",
      "  daily_dataframe = clean_month_weather_data_daily(csv_file)\n",
      "/var/folders/bd/k3x2fr1d0qnb1y68htn6g7wc0000gn/T/ipykernel_21179/133158462.py:40: DtypeWarning: Columns (41) have mixed types.Specify dtype option on import or set low_memory=False.\n",
      "  hourly_dataframe = clean_month_weather_data_hourly(csv_file)\n",
      "/var/folders/bd/k3x2fr1d0qnb1y68htn6g7wc0000gn/T/ipykernel_21179/133158462.py:41: DtypeWarning: Columns (41) have mixed types.Specify dtype option on import or set low_memory=False.\n",
      "  daily_dataframe = clean_month_weather_data_daily(csv_file)\n",
      "/var/folders/bd/k3x2fr1d0qnb1y68htn6g7wc0000gn/T/ipykernel_21179/133158462.py:40: DtypeWarning: Columns (8,9,10,17,18,19,41,62) have mixed types.Specify dtype option on import or set low_memory=False.\n",
      "  hourly_dataframe = clean_month_weather_data_hourly(csv_file)\n",
      "/var/folders/bd/k3x2fr1d0qnb1y68htn6g7wc0000gn/T/ipykernel_21179/133158462.py:41: DtypeWarning: Columns (8,9,10,17,18,19,41,62) have mixed types.Specify dtype option on import or set low_memory=False.\n",
      "  daily_dataframe = clean_month_weather_data_daily(csv_file)\n",
      "/var/folders/bd/k3x2fr1d0qnb1y68htn6g7wc0000gn/T/ipykernel_21179/133158462.py:40: DtypeWarning: Columns (9,13,19,78) have mixed types.Specify dtype option on import or set low_memory=False.\n",
      "  hourly_dataframe = clean_month_weather_data_hourly(csv_file)\n",
      "/var/folders/bd/k3x2fr1d0qnb1y68htn6g7wc0000gn/T/ipykernel_21179/133158462.py:41: DtypeWarning: Columns (9,13,19,78) have mixed types.Specify dtype option on import or set low_memory=False.\n",
      "  daily_dataframe = clean_month_weather_data_daily(csv_file)\n",
      "/var/folders/bd/k3x2fr1d0qnb1y68htn6g7wc0000gn/T/ipykernel_21179/133158462.py:40: DtypeWarning: Columns (8,9,10,17,64,78) have mixed types.Specify dtype option on import or set low_memory=False.\n",
      "  hourly_dataframe = clean_month_weather_data_hourly(csv_file)\n",
      "/var/folders/bd/k3x2fr1d0qnb1y68htn6g7wc0000gn/T/ipykernel_21179/133158462.py:41: DtypeWarning: Columns (8,9,10,17,64,78) have mixed types.Specify dtype option on import or set low_memory=False.\n",
      "  daily_dataframe = clean_month_weather_data_daily(csv_file)\n",
      "/var/folders/bd/k3x2fr1d0qnb1y68htn6g7wc0000gn/T/ipykernel_21179/133158462.py:40: DtypeWarning: Columns (9,18,41,42,64,78) have mixed types.Specify dtype option on import or set low_memory=False.\n",
      "  hourly_dataframe = clean_month_weather_data_hourly(csv_file)\n",
      "/var/folders/bd/k3x2fr1d0qnb1y68htn6g7wc0000gn/T/ipykernel_21179/133158462.py:41: DtypeWarning: Columns (9,18,41,42,64,78) have mixed types.Specify dtype option on import or set low_memory=False.\n",
      "  daily_dataframe = clean_month_weather_data_daily(csv_file)\n"
     ]
    }
   ],
   "source": [
    "# taxi_data = get_and_clean_taxi_data()\n",
    "uber_data = get_uber_data()\n",
    "hourly_weather, daily_weather = load_and_clean_weather_data()"
   ]
  },
  {
   "cell_type": "code",
   "execution_count": 10,
   "id": "369621de",
   "metadata": {},
   "outputs": [
    {
     "name": "stdout",
     "output_type": "stream",
     "text": [
      "       pickup_datetime  trip_distance\n",
      "0  2015-01-23 11:24:57           2.64\n",
      "1  2015-07-25 02:26:04           3.62\n",
      "2  2012-03-27 12:24:16           2.30\n",
      "3  2014-11-03 08:13:10            NaN\n",
      "4  2011-02-12 22:04:00           0.00\n"
     ]
    }
   ],
   "source": [
    "taxi_data = pd.read_csv(\"/Users/sd/Desktop/4501/Project/sample_taxis.csv\")\n",
    "taxi_data = taxi_data.iloc[:,1:]\n",
    "taxi_data.drop(taxi_data.columns[4], axis=1, inplace=True)\n",
    "taxi_data.drop(taxi_data.columns[4], axis=1, inplace=True)\n",
    "taxi_data.drop(taxi_data.columns[1], axis=1, inplace=True)\n",
    "taxi_data.drop(taxi_data.columns[2], axis=1, inplace=True)\n",
    "print(taxi_data[:5])"
   ]
  },
  {
   "cell_type": "markdown",
   "id": "dd101f11",
   "metadata": {},
   "source": [
    "## Part 2: Storing Cleaned Data\n",
    "\n",
    "In this part, we'll create the connection and schema we need, and also create tables in the database."
   ]
  },
  {
   "cell_type": "code",
   "execution_count": 68,
   "id": "f3529cf6",
   "metadata": {},
   "outputs": [
    {
     "data": {
      "text/plain": [
       "<sqlite3.Connection at 0x7fd750a38030>"
      ]
     },
     "execution_count": 68,
     "metadata": {},
     "output_type": "execute_result"
    }
   ],
   "source": [
    "engine = db.create_engine(DATABASE_URL)\n",
    "import sqlite3\n",
    "connection = sqlite3.connect(\"project.db\")\n",
    "connection"
   ]
  },
  {
   "cell_type": "code",
   "execution_count": 12,
   "id": "d2bea0ff",
   "metadata": {},
   "outputs": [],
   "source": [
    "# if using SQL (as opposed to SQLAlchemy), define the commands \n",
    "# to create your 4 tables/dataframes\n",
    "HOURLY_WEATHER_SCHEMA = \"\"\"\n",
    "CREATE TABLE IF NOT EXISTS hourly_weather\n",
    "(\n",
    "    `DATE` DATE PRIMARY KEY,\n",
    "    HourlyPrecipitation FLOAT,\n",
    "    HourlyWindSpeed FLOAT\n",
    ");\n",
    "\"\"\"\n",
    "\n",
    "DAILY_WEATHER_SCHEMA = \"\"\"\n",
    "CREATE TABLE IF NOT EXISTS daily_weather\n",
    "(\n",
    "    `DATE` DATE PRIMARY KEY,\n",
    "    DailyAverageWindSpeed FLOAT\n",
    ");\n",
    "\"\"\"\n",
    "\n",
    "TAXI_TRIPS_SCHEMA = \"\"\"\n",
    "CREATE TABLE IF NOT EXISTS uber_data\n",
    "(\n",
    "    pickup_datetime DATE PRIMARY KEY,\n",
    "    pickup_longitude FLOAT,\n",
    "    pickup_latitude FLOAT,\n",
    "    dropoff_longitude FLOAT,\n",
    "    dropoff_latitude FLOAT\n",
    ");\n",
    "\"\"\"\n",
    "\n",
    "UBER_TRIPS_SCHEMA = \"\"\"\n",
    "CREATE TABLE IF NOT EXISTS taxi_data\n",
    "(\n",
    "    pickup_datetime DATE PRIMARY KEY,\n",
    "    trip_distance FLOAT\n",
    ");\n",
    "\"\"\""
   ]
  },
  {
   "cell_type": "code",
   "execution_count": 13,
   "id": "5f41e54b",
   "metadata": {},
   "outputs": [],
   "source": [
    "# create that required schema.sql file\n",
    "with open(DATABASE_SCHEMA_FILE, \"w\") as f:\n",
    "    f.write(HOURLY_WEATHER_SCHEMA)\n",
    "    f.write(DAILY_WEATHER_SCHEMA)\n",
    "    f.write(TAXI_TRIPS_SCHEMA)\n",
    "    f.write(UBER_TRIPS_SCHEMA)"
   ]
  },
  {
   "cell_type": "code",
   "execution_count": 14,
   "id": "02eccdba",
   "metadata": {},
   "outputs": [],
   "source": [
    "# create the tables with the schema files\n",
    "connection = sqlite3.connect(\"project.db\")\n",
    "cursor = connection.cursor() \n",
    "with open(DATABASE_SCHEMA_FILE) as file:\n",
    "    query = file.read()\n",
    "    cursor.executescript(query)"
   ]
  },
  {
   "cell_type": "markdown",
   "id": "c122964f",
   "metadata": {},
   "source": [
    "### Add Data to Database\n",
    "\n",
    "In this part, we'll load the data into the tables in the database."
   ]
  },
  {
   "cell_type": "code",
   "execution_count": 15,
   "id": "59cdd286",
   "metadata": {},
   "outputs": [],
   "source": [
    "hourly_weather.to_sql(\"hourly_weather\", con=engine, if_exists=\"replace\", index=False)\n",
    "daily_weather.to_sql(\"daily_weather\", con=engine, if_exists=\"replace\", index=False)\n",
    "uber_data.to_sql(\"uber_data\", con=engine, if_exists=\"replace\", index=False)\n",
    "taxi_data.to_sql(\"taxi_data\", con=engine, if_exists=\"replace\", index=False)"
   ]
  },
  {
   "cell_type": "code",
   "execution_count": 6,
   "id": "504ea7be",
   "metadata": {},
   "outputs": [
    {
     "name": "stdout",
     "output_type": "stream",
     "text": [
      "('2015-01-23 11:24:57', 2.64)\n",
      "('2015-07-25 02:26:04', 3.62)\n",
      "('2012-03-27 12:24:16', 2.3)\n",
      "('2014-11-03 08:13:10', None)\n",
      "('2011-02-12 22:04:00', 0.0)\n"
     ]
    }
   ],
   "source": [
    "with connection:\n",
    "    result = connection.execute(\n",
    "        \"SELECT * FROM taxi_data LIMIT 5\"\n",
    "    )\n",
    "\n",
    "for row in result:\n",
    "    print(row)"
   ]
  },
  {
   "cell_type": "code",
   "execution_count": null,
   "id": "80e03176",
   "metadata": {},
   "outputs": [],
   "source": []
  },
  {
   "cell_type": "code",
   "execution_count": null,
   "id": "0e68a363",
   "metadata": {},
   "outputs": [],
   "source": [
    "# def dataframes_to_table():\n",
    "#     raise NotImplemented()"
   ]
  },
  {
   "cell_type": "code",
   "execution_count": null,
   "id": "45d6c06c",
   "metadata": {},
   "outputs": [],
   "source": [
    "# table_name_to_dataframe = {\n",
    "#     \"taxi_trips\": taxi_data,\n",
    "#     \"uber_trips\": uber_data,\n",
    "#     \"hourly_weather\": hourly_data,\n",
    "#     \"daily_weather\": daily_data,\n",
    "# }\n",
    "\n",
    "# dataframes_to_table(table_name_to_dataframe)"
   ]
  },
  {
   "cell_type": "markdown",
   "id": "8cb6e33e",
   "metadata": {},
   "source": [
    "## Part 3: Understanding the Data"
   ]
  },
  {
   "cell_type": "markdown",
   "id": "b4753fcd",
   "metadata": {},
   "source": [
    "_A checklist of requirements to keep you on track. Remove this whole cell before submitting the project. The order of these tasks aren't necessarily the order in which they need to be done. It's okay to do them in an order that makes sense to you._\n",
    "\n",
    "* [ ] For 01-2009 through 06-2015, what hour of the day was the most popular to take a yellow taxi? The result should have 24 bins.\n",
    "* [ ] For the same time frame, what day of the week was the most popular to take an uber? The result should have 7 bins.\n",
    "* [ ] What is the 95% percentile of distance traveled for all hired trips during July 2013?\n",
    "* [ ] What were the top 10 days with the highest number of hired rides for 2009, and what was the average distance for each day?\n",
    "* [ ] Which 10 days in 2014 were the windiest, and how many hired trips were made on those days?\n",
    "* [ ] During Hurricane Sandy in NYC (Oct 29-30, 2012) and the week leading up to it, how many trips were taken each hour, and for each hour, how much precipitation did NYC receive and what was the sustained wind speed?"
   ]
  },
  {
   "cell_type": "code",
   "execution_count": 186,
   "id": "6a849e92",
   "metadata": {},
   "outputs": [],
   "source": [
    "def write_query_to_file(query, outfile):\n",
    "    with open(outfile, \"w\") as f:\n",
    "        f.write(query)\n",
    "        f.close()\n"
   ]
  },
  {
   "cell_type": "markdown",
   "id": "ee70a777",
   "metadata": {},
   "source": [
    "### Query N\n",
    "\n",
    "_Write some prose that tells the reader what you're about to do here._\n",
    "\n",
    "_Repeat for each query_"
   ]
  },
  {
   "cell_type": "code",
   "execution_count": 195,
   "id": "db871d3c",
   "metadata": {},
   "outputs": [],
   "source": [
    "QUERY_Q1 = '''SELECT strftime ('%H',pickup_datetime) AS Hour,\n",
    "                    COUNT(strftime ('%H',pickup_datetime))\n",
    "         FROM taxi_data\n",
    "         WHERE pickup_datetime >= '2009-01-01 00:00:00'\n",
    "         AND pickup_datetime <= '2015-06-30 23:59:59'\n",
    "         AND trip_distance != 'None'\n",
    "         GROUP BY Hour\n",
    "         ORDER BY COUNT(strftime ('%H',pickup_datetime)) DESC\n",
    "        '''"
   ]
  },
  {
   "cell_type": "code",
   "execution_count": 196,
   "id": "c5275f3a",
   "metadata": {},
   "outputs": [
    {
     "data": {
      "text/plain": [
       "[('19', 7526),\n",
       " ('18', 7196),\n",
       " ('20', 7123),\n",
       " ('21', 7070),\n",
       " ('22', 6728),\n",
       " ('14', 6149),\n",
       " ('23', 6031),\n",
       " ('17', 5993),\n",
       " ('12', 5985),\n",
       " ('13', 5852),\n",
       " ('15', 5838),\n",
       " ('11', 5631),\n",
       " ('09', 5571),\n",
       " ('10', 5528),\n",
       " ('08', 5449),\n",
       " ('16', 4983),\n",
       " ('00', 4704),\n",
       " ('07', 4407),\n",
       " ('01', 3557),\n",
       " ('02', 2651),\n",
       " ('06', 2494),\n",
       " ('03', 1979),\n",
       " ('04', 1379),\n",
       " ('05', 1180)]"
      ]
     },
     "execution_count": 196,
     "metadata": {},
     "output_type": "execute_result"
    }
   ],
   "source": [
    "engine.execute(QUERY_Q1).fetchall()"
   ]
  },
  {
   "cell_type": "code",
   "execution_count": 221,
   "id": "a2ef04df",
   "metadata": {},
   "outputs": [],
   "source": [
    "write_query_to_file(QUERY_Q1, \"Q1_taxi_hour_freq.sql\")"
   ]
  },
  {
   "cell_type": "code",
   "execution_count": 198,
   "id": "3a5486d5",
   "metadata": {},
   "outputs": [],
   "source": [
    "QUERY_Q2 = '''SELECT strftime ('%w',datetime(substr(pickup_datetime, 1, 19))) AS Day,\n",
    "                    COUNT(strftime ('%w',datetime(substr(pickup_datetime, 1, 19))))\n",
    "        FROM uber_data\n",
    "        WHERE pickup_datetime >= '2009-01-01 00:00:00'\n",
    "        AND pickup_datetime <= '2015-06-30 23:59:59'\n",
    "        GROUP BY Day\n",
    "        ORDER BY COUNT(strftime ('%w',datetime(substr(pickup_datetime, 1, 19)))) DESC\n",
    "        '''"
   ]
  },
  {
   "cell_type": "code",
   "execution_count": 199,
   "id": "202ba23f",
   "metadata": {},
   "outputs": [
    {
     "data": {
      "text/plain": [
       "[('5', 30880),\n",
       " ('6', 30251),\n",
       " ('4', 30021),\n",
       " ('3', 29037),\n",
       " ('2', 28127),\n",
       " ('0', 26441),\n",
       " ('1', 25243)]"
      ]
     },
     "execution_count": 199,
     "metadata": {},
     "output_type": "execute_result"
    }
   ],
   "source": [
    "engine.execute(QUERY_Q2).fetchall()"
   ]
  },
  {
   "cell_type": "code",
   "execution_count": 222,
   "id": "97af8651",
   "metadata": {},
   "outputs": [],
   "source": [
    "write_query_to_file(QUERY_Q2, \"Q2_uber_weekday_freq.sql\")"
   ]
  },
  {
   "cell_type": "code",
   "execution_count": 201,
   "id": "56fdbcd6",
   "metadata": {},
   "outputs": [],
   "source": [
    "QUERY_Q3 = '''SELECT dis\n",
    "        FROM(\n",
    "        SELECT a.trip_distance AS dis\n",
    "        FROM taxi_data AS a\n",
    "        WHERE a.pickup_datetime >= '2013-07-01 00:00:00'\n",
    "        AND a.pickup_datetime <= '2013-07-31 23:59:59'\n",
    "        AND a.trip_distance != 'None'\n",
    "        UNION ALL \n",
    "        SELECT b.distance AS dis\n",
    "        FROM uber_data AS b\n",
    "        WHERE b.pickup_datetime >= '2013-07-01 00:00:00'\n",
    "        AND b.pickup_datetime <= '2013-07-31 23:59:59'\n",
    "        )\n",
    "        ORDER BY dis ASC\n",
    "        LIMIT 1\n",
    "        OFFSET (SELECT count(*)\n",
    "        FROM (SELECT a.trip_distance AS dis\n",
    "        FROM taxi_data AS a\n",
    "        WHERE a.pickup_datetime >= '2013-07-01 00:00:00'\n",
    "        AND a.pickup_datetime <= '2013-07-31 23:59:59'\n",
    "        AND a.trip_distance != 'None'\n",
    "        UNION ALL \n",
    "        SELECT b.distance AS dis\n",
    "        FROM uber_data AS b\n",
    "        WHERE b.pickup_datetime >= '2013-07-01 00:00:00'\n",
    "        AND b.pickup_datetime <= '2013-07-31 23:59:59')) * 95 / 100 -1\n",
    "        '''"
   ]
  },
  {
   "cell_type": "code",
   "execution_count": 202,
   "id": "58d27ee8",
   "metadata": {},
   "outputs": [
    {
     "data": {
      "text/plain": [
       "[(10.67,)]"
      ]
     },
     "execution_count": 202,
     "metadata": {},
     "output_type": "execute_result"
    }
   ],
   "source": [
    "engine.execute(QUERY_Q3).fetchall()"
   ]
  },
  {
   "cell_type": "code",
   "execution_count": 223,
   "id": "bf1a5d5c",
   "metadata": {},
   "outputs": [],
   "source": [
    "write_query_to_file(QUERY_Q3, \"Q3_95percentile_of_distance.sql\")"
   ]
  },
  {
   "cell_type": "code",
   "execution_count": 204,
   "id": "1a11ffd1",
   "metadata": {},
   "outputs": [],
   "source": [
    "QUERY_Q4 = '''SELECT strftime ('%Y-%m-%d',datetime(substr(a_col, 1, 19))) AS Day,\n",
    "                    COUNT(strftime ('%Y-%m-%d',datetime(substr(a_col, 1, 19)))) AS c,\n",
    "                    avg(dis) as average_dis\n",
    "        FROM(\n",
    "        SELECT a.pickup_datetime AS a_col,\n",
    "        a.trip_distance AS dis\n",
    "        FROM taxi_data AS a\n",
    "        WHERE a.pickup_datetime >= '2009-01-01 00:00:00'\n",
    "        AND a.pickup_datetime <= '2009-12-31 23:59:59'\n",
    "        AND a.trip_distance != 'None'\n",
    "        UNION ALL \n",
    "        SELECT b.pickup_datetime AS a_col,\n",
    "        b.distance as dis\n",
    "        FROM uber_data AS b\n",
    "        WHERE b.pickup_datetime >= '2009-01-01 00:00:00'\n",
    "        AND b.pickup_datetime <= '2009-12-31 23:59:59'\n",
    "        )\n",
    "        GROUP BY Day\n",
    "        ORDER BY c DESC\n",
    "        LIMIT 10\n",
    "        '''"
   ]
  },
  {
   "cell_type": "code",
   "execution_count": 205,
   "id": "b5c2e420",
   "metadata": {},
   "outputs": [
    {
     "data": {
      "text/plain": [
       "[('2009-12-11', 127, 2.506931376233126),\n",
       " ('2009-10-23', 124, 1.9717110926902974),\n",
       " ('2009-08-14', 119, 3.035400440272194),\n",
       " ('2009-04-18', 116, 2.3822606244504163),\n",
       " ('2009-07-09', 113, 2.679256496541341),\n",
       " ('2009-05-08', 113, 2.6170950852963877),\n",
       " ('2009-01-31', 113, 2.008425079606784),\n",
       " ('2009-05-16', 112, 2.0623085185217063),\n",
       " ('2009-07-23', 111, 81.14475557191143),\n",
       " ('2009-03-19', 111, 2.5767778493289692)]"
      ]
     },
     "execution_count": 205,
     "metadata": {},
     "output_type": "execute_result"
    }
   ],
   "source": [
    "engine.execute(QUERY_Q4).fetchall()"
   ]
  },
  {
   "cell_type": "code",
   "execution_count": 224,
   "id": "278583cf",
   "metadata": {},
   "outputs": [],
   "source": [
    "write_query_to_file(QUERY_Q4, \"Q4_top_10_days_of_rides_2019.sql\")"
   ]
  },
  {
   "cell_type": "code",
   "execution_count": 211,
   "id": "e74244c2",
   "metadata": {},
   "outputs": [],
   "source": [
    "QUERY_Q5 = '''\n",
    "        SELECT strftime ('%Y-%m-%d',datetime(substr(c.`DATE`, 1, 10))) AS d,\n",
    "            c.DailyAverageWindSpeed as WindSpeed,\n",
    "            ride.num_ride\n",
    "        FROM daily_weather as c\n",
    "        JOIN(\n",
    "        SELECT a_col,\n",
    "                count(a_col) as num_ride\n",
    "        FROM(\n",
    "        SELECT strftime('%Y-%m-%d', a.pickup_datetime) AS a_col\n",
    "        FROM taxi_data AS a\n",
    "        WHERE a.pickup_datetime >= '2014-01-01 00:00:00'\n",
    "        AND a.pickup_datetime <= '2014-12-31 23:59:59'\n",
    "        AND a.trip_distance != 'None'\n",
    "        UNION ALL \n",
    "        SELECT strftime ('%Y-%m-%d',datetime(substr(b.pickup_datetime, 1, 19))) AS a_col\n",
    "        FROM uber_data AS b\n",
    "        WHERE b.pickup_datetime >= '2014-01-01 00:00:00'\n",
    "        AND b.pickup_datetime <= '2014-12-31 23:59:59'\n",
    "        )\n",
    "        GROUP BY a_col\n",
    "        ) as ride\n",
    "        ON d == ride.a_col\n",
    "        WHERE d >= '2014-01-01 00:00:00'\n",
    "        AND d <= '2014-12-31 23:59:59'\n",
    "        GROUP BY d\n",
    "        ORDER BY WindSpeed DESC\n",
    "        LIMIT 10\n",
    "        '''"
   ]
  },
  {
   "cell_type": "code",
   "execution_count": 212,
   "id": "8f4780b7",
   "metadata": {},
   "outputs": [
    {
     "data": {
      "text/plain": [
       "[('2014-03-13', 23.3, 108),\n",
       " ('2014-03-26', 22.0, 99),\n",
       " ('2014-11-02', 21.8, 84),\n",
       " ('2014-01-07', 21.8, 78),\n",
       " ('2014-12-07', 21.0, 75),\n",
       " ('2014-11-18', 20.6, 88),\n",
       " ('2014-04-23', 20.2, 77),\n",
       " ('2014-04-24', 19.1, 98),\n",
       " ('2014-10-22', 18.8, 86),\n",
       " ('2014-12-09', 18.5, 70)]"
      ]
     },
     "execution_count": 212,
     "metadata": {},
     "output_type": "execute_result"
    }
   ],
   "source": [
    "engine.execute(QUERY_Q5).fetchall()"
   ]
  },
  {
   "cell_type": "code",
   "execution_count": 225,
   "id": "d9682a08",
   "metadata": {},
   "outputs": [],
   "source": [
    "write_query_to_file(QUERY_Q5, \"Q5_top10_windiest.sql\")"
   ]
  },
  {
   "cell_type": "code",
   "execution_count": 218,
   "id": "009d6081",
   "metadata": {},
   "outputs": [],
   "source": [
    "QUERY_Q6 = '''\n",
    "        SELECT substr((substr(hr.`DATE`, 1, 10) || ' ' || substr(hr.`DATE`, 12)), 1, 13) AS H,\n",
    "                t.c AS num_rides,\n",
    "                avg(hr.HourlyPrecipitation) AS avg_hr_preci,\n",
    "                avg(hr.HourlyWindSpeed) AS avg_hr_wind\n",
    "        FROM hourly_weather as hr\n",
    "        JOIN (\n",
    "        SELECT Hour,\n",
    "            COUNT(Hour) as c\n",
    "        FROM(\n",
    "        SELECT substr(a.pickup_datetime, 1, 13) AS Hour\n",
    "        FROM taxi_data AS a\n",
    "        WHERE a.pickup_datetime >= '2012-10-23 00:00:00'\n",
    "        AND a.pickup_datetime <= '2012-10-30 23:59:59'\n",
    "        AND a.trip_distance != 'None'\n",
    "        UNION ALL \n",
    "        SELECT substr(datetime(substr(b.pickup_datetime, 1, 19)), 1,13) AS Hour\n",
    "        FROM uber_data AS b\n",
    "        WHERE b.pickup_datetime >= '2012-10-23 00:00:00'\n",
    "        AND b.pickup_datetime <= '2012-10-30 23:59:59'\n",
    "        )\n",
    "        GROUP BY Hour\n",
    "        ) as t\n",
    "        ON H = Hour\n",
    "        WHERE substr(hr.`DATE`, 1, 10) || ' ' || substr(hr.`DATE`, 12) >= '2012-10-23 00:00:00'\n",
    "        AND substr(hr.`DATE`, 1, 10) || ' ' || substr(hr.`DATE`, 12) <= '2012-10-30 23:59:59'\n",
    "        GROUP BY H\n",
    "        '''"
   ]
  },
  {
   "cell_type": "code",
   "execution_count": 219,
   "id": "28e0462a",
   "metadata": {},
   "outputs": [
    {
     "data": {
      "text/plain": [
       "[('2012-10-23 00', 4, 0.0, 6.0),\n",
       " ('2012-10-23 01', 3, 0.0, 6.0),\n",
       " ('2012-10-23 03', 2, 0.0, 3.0),\n",
       " ('2012-10-23 05', 3, 0.0, 0.0),\n",
       " ('2012-10-23 06', 3, 0.0, 3.0),\n",
       " ('2012-10-23 07', 12, 0.0, 1.5),\n",
       " ('2012-10-23 08', 14, 0.0, 6.0),\n",
       " ('2012-10-23 09', 10, 0.0, 5.0),\n",
       " ('2012-10-23 10', 9, 0.0, 3.0),\n",
       " ('2012-10-23 11', 7, 0.0, 3.0),\n",
       " ('2012-10-23 12', 3, 0.0, 3.0),\n",
       " ('2012-10-23 13', 10, 0.0, 4.0),\n",
       " ('2012-10-23 14', 13, 0.0, 6.0),\n",
       " ('2012-10-23 15', 9, 0.0, 5.0),\n",
       " ('2012-10-23 16', 2, 0.0, 3.0),\n",
       " ('2012-10-23 17', 7, 0.0, 5.0),\n",
       " ('2012-10-23 18', 11, 0.0, 6.0),\n",
       " ('2012-10-23 19', 8, 0.0, 6.5),\n",
       " ('2012-10-23 20', 9, 0.0, 6.0),\n",
       " ('2012-10-23 21', 9, 0.03, 7.0),\n",
       " ('2012-10-23 22', 10, 0.0, 6.0),\n",
       " ('2012-10-23 23', 5, 0.0, 5.933786078098472),\n",
       " ('2012-10-24 00', 2, 0.0, 6.0),\n",
       " ('2012-10-24 02', 4, 0.0, 7.0),\n",
       " ('2012-10-24 05', 2, 0.0, 8.0),\n",
       " ('2012-10-24 07', 9, 0.0, 6.8),\n",
       " ('2012-10-24 08', 8, 0.04, 7.666666666666667),\n",
       " ('2012-10-24 09', 8, 0.0, 7.0),\n",
       " ('2012-10-24 10', 5, 0.0, 5.666666666666667),\n",
       " ('2012-10-24 11', 13, 0.0, 5.0),\n",
       " ('2012-10-24 12', 9, 0.0, 6.0),\n",
       " ('2012-10-24 13', 7, 0.0, 6.5),\n",
       " ('2012-10-24 14', 4, 0.0, 6.0),\n",
       " ('2012-10-24 15', 9, 0.0, 6.0),\n",
       " ('2012-10-24 16', 5, 0.0, 6.0),\n",
       " ('2012-10-24 17', 8, 0.0, 6.0),\n",
       " ('2012-10-24 18', 9, 0.0, 5.0),\n",
       " ('2012-10-24 19', 7, 0.0, 5.0),\n",
       " ('2012-10-24 20', 12, 0.0, 5.0),\n",
       " ('2012-10-24 21', 13, 0.0, 5.5),\n",
       " ('2012-10-24 22', 9, 0.0, 5.5),\n",
       " ('2012-10-24 23', 9, 0.0, 5.933786078098472),\n",
       " ('2012-10-25 00', 8, 0.0, 3.0),\n",
       " ('2012-10-25 01', 4, 0.0, 4.0),\n",
       " ('2012-10-25 02', 4, 0.0, 3.0),\n",
       " ('2012-10-25 04', 1, 0.0, 5.0),\n",
       " ('2012-10-25 05', 3, 0.0, 5.0),\n",
       " ('2012-10-25 06', 5, 0.0, 5.0),\n",
       " ('2012-10-25 07', 6, 0.0, 5.0),\n",
       " ('2012-10-25 08', 10, 0.0, 6.0),\n",
       " ('2012-10-25 09', 9, 0.0, 5.0),\n",
       " ('2012-10-25 10', 8, 0.0, 6.0),\n",
       " ('2012-10-25 11', 10, 0.0, 5.0),\n",
       " ('2012-10-25 12', 12, 0.0, 6.0),\n",
       " ('2012-10-25 13', 7, 0.0, 6.5),\n",
       " ('2012-10-25 14', 11, 0.0, 5.0),\n",
       " ('2012-10-25 15', 9, 0.0, 5.0),\n",
       " ('2012-10-25 16', 5, 0.0, 6.0),\n",
       " ('2012-10-25 17', 9, 0.0, 5.0),\n",
       " ('2012-10-25 18', 7, 0.0, 7.0),\n",
       " ('2012-10-25 19', 6, 0.0, 6.5),\n",
       " ('2012-10-25 20', 22, 0.0, 5.0),\n",
       " ('2012-10-25 21', 16, 0.0, 0.0),\n",
       " ('2012-10-25 22', 9, 0.0, 0.0),\n",
       " ('2012-10-25 23', 12, 0.0, 4.433786078098472),\n",
       " ('2012-10-26 00', 7, 0.0, 0.0),\n",
       " ('2012-10-26 01', 4, 0.0, 0.0),\n",
       " ('2012-10-26 02', 6, 0.0, 0.0),\n",
       " ('2012-10-26 03', 4, 0.0, 0.0),\n",
       " ('2012-10-26 04', 4, 0.0, 6.0),\n",
       " ('2012-10-26 05', 1, 0.0, 3.6666666666666665),\n",
       " ('2012-10-26 06', 4, 0.0, 3.0),\n",
       " ('2012-10-26 07', 9, 0.0, 1.5),\n",
       " ('2012-10-26 08', 5, 0.0, 6.0),\n",
       " ('2012-10-26 09', 12, 0.0, 0.0),\n",
       " ('2012-10-26 10', 4, 0.0, 0.0),\n",
       " ('2012-10-26 11', 8, 0.0, 4.0),\n",
       " ('2012-10-26 12', 8, 0.0, 5.0),\n",
       " ('2012-10-26 13', 9, 0.0, 5.333333333333333),\n",
       " ('2012-10-26 14', 10, 0.0, 4.0),\n",
       " ('2012-10-26 15', 8, 0.0, 4.5),\n",
       " ('2012-10-26 16', 2, 0.0, 3.0),\n",
       " ('2012-10-26 17', 6, 0.0, 5.0),\n",
       " ('2012-10-26 18', 10, 0.0, 3.0),\n",
       " ('2012-10-26 19', 7, 0.0, 1.5),\n",
       " ('2012-10-26 20', 18, 0.0, 3.0),\n",
       " ('2012-10-26 21', 10, 0.0, 0.0),\n",
       " ('2012-10-26 22', 16, 0.0, 0.0),\n",
       " ('2012-10-26 23', 9, 0.0, 6.933786078098472),\n",
       " ('2012-10-27 00', 8, 0.0, 6.0),\n",
       " ('2012-10-27 01', 6, 0.0, 5.5),\n",
       " ('2012-10-27 02', 10, 0.0, 0.0),\n",
       " ('2012-10-27 03', 7, 0.0, 0.0),\n",
       " ('2012-10-27 05', 3, 0.0, 5.0),\n",
       " ('2012-10-27 06', 2, 0.0, 5.0),\n",
       " ('2012-10-27 07', 4, 0.0, 5.5),\n",
       " ('2012-10-27 08', 5, 0.0, 5.5),\n",
       " ('2012-10-27 09', 9, 0.0, 7.0),\n",
       " ('2012-10-27 10', 2, 0.0, 3.0),\n",
       " ('2012-10-27 11', 3, 0.0, 5.0),\n",
       " ('2012-10-27 12', 9, 0.0, 8.0),\n",
       " ('2012-10-27 13', 8, 0.0, 7.0),\n",
       " ('2012-10-27 14', 7, 0.0, 5.0),\n",
       " ('2012-10-27 15', 8, 0.0, 6.0),\n",
       " ('2012-10-27 16', 8, 0.0, 7.0),\n",
       " ('2012-10-27 17', 17, 0.0, 9.0),\n",
       " ('2012-10-27 18', 9, 0.0, 9.0),\n",
       " ('2012-10-27 19', 10, 0.0, 9.0),\n",
       " ('2012-10-27 20', 20, 0.0, 10.0),\n",
       " ('2012-10-27 21', 9, 0.0, 10.0),\n",
       " ('2012-10-27 22', 13, 0.0, 10.0),\n",
       " ('2012-10-27 23', 10, 0.0, 9.933786078098471),\n",
       " ('2012-10-28 00', 10, 0.0, 10.0),\n",
       " ('2012-10-28 01', 12, 0.0, 9.5),\n",
       " ('2012-10-28 02', 6, 0.0, 10.0),\n",
       " ('2012-10-28 03', 8, 0.0, 13.0),\n",
       " ('2012-10-28 04', 7, 0.0, 10.0),\n",
       " ('2012-10-28 05', 1, 0.0, 14.0),\n",
       " ('2012-10-28 07', 2, 0.0, 15.333333333333334),\n",
       " ('2012-10-28 08', 2, 0.0, 20.0),\n",
       " ('2012-10-28 09', 6, 0.0, 19.0),\n",
       " ('2012-10-28 10', 4, 0.0, 20.0),\n",
       " ('2012-10-28 11', 7, 0.0, 21.0),\n",
       " ('2012-10-28 12', 7, 0.0, 20.0),\n",
       " ('2012-10-28 13', 9, 0.0, 18.5),\n",
       " ('2012-10-28 14', 12, 0.0, 17.0),\n",
       " ('2012-10-28 15', 13, 0.0, 17.0),\n",
       " ('2012-10-28 16', 7, 0.0, 20.0),\n",
       " ('2012-10-28 17', 6, 0.0, 21.0),\n",
       " ('2012-10-28 18', 5, 0.0, 17.0),\n",
       " ('2012-10-28 19', 5, 0.0, 20.0),\n",
       " ('2012-10-28 20', 7, 0.0, 20.0),\n",
       " ('2012-10-28 21', 3, 0.0, 20.0),\n",
       " ('2012-10-28 22', 4, 0.0, 21.0),\n",
       " ('2012-10-28 23', 1, 0.0, 16.289190718732314),\n",
       " ('2012-10-29 00', 1, 0.0, 23.0),\n",
       " ('2012-10-29 02', 2, 0.0, 23.0),\n",
       " ('2012-10-29 04', 2, 0.0, 28.0),\n",
       " ('2012-10-29 06', 2, 0.06, 33.0),\n",
       " ('2012-10-29 07', 1, 0.03, 32.0),\n",
       " ('2012-10-29 08', 1, 0.03, 32.0),\n",
       " ('2012-10-29 09', 3, 0.0, 30.0),\n",
       " ('2012-10-29 10', 2, 0.0025, 32.25),\n",
       " ('2012-10-29 11', 4, 0.04, 31.0),\n",
       " ('2012-10-29 12', 6, 0.030000000000000002, 38.5),\n",
       " ('2012-10-29 13', 2, 0.01, 37.25),\n",
       " ('2012-10-29 14', 2, 0.03, 43.0),\n",
       " ('2012-10-29 15', 2, 0.023333333333333334, 37.0),\n",
       " ('2012-10-29 17', 1, 0.056666666666666664, 36.0),\n",
       " ('2012-10-29 18', 3, 0.035, 35.0),\n",
       " ('2012-10-30 00', 1, 0.08, 34.0),\n",
       " ('2012-10-30 02', 1, 0.09, 17.0),\n",
       " ('2012-10-30 04', 1, 0.03, 17.0),\n",
       " ('2012-10-30 05', 1, 0.0, 17.0),\n",
       " ('2012-10-30 06', 1, 0.03, 20.5),\n",
       " ('2012-10-30 09', 3, 0.05, 22.0),\n",
       " ('2012-10-30 10', 5, 0.04, 23.0),\n",
       " ('2012-10-30 11', 5, 0.0, 21.0),\n",
       " ('2012-10-30 13', 8, 0.0, 17.0),\n",
       " ('2012-10-30 14', 2, 0.0, 16.0),\n",
       " ('2012-10-30 15', 6, 0.0, 14.0),\n",
       " ('2012-10-30 16', 1, 0.0, 13.0),\n",
       " ('2012-10-30 17', 7, 0.0, 11.0),\n",
       " ('2012-10-30 18', 4, 0.0, 10.0),\n",
       " ('2012-10-30 19', 8, 0.0, 10.5),\n",
       " ('2012-10-30 20', 5, 0.0, 14.0),\n",
       " ('2012-10-30 21', 3, 0.0, 10.0),\n",
       " ('2012-10-30 22', 4, 0.0, 11.0),\n",
       " ('2012-10-30 23', 5, 0.0, 9.933786078098471)]"
      ]
     },
     "execution_count": 219,
     "metadata": {},
     "output_type": "execute_result"
    }
   ],
   "source": [
    "engine.execute(QUERY_Q6).fetchall()"
   ]
  },
  {
   "cell_type": "code",
   "execution_count": 226,
   "id": "6f9e7028",
   "metadata": {},
   "outputs": [],
   "source": [
    "write_query_to_file(QUERY_Q6, \"Q6_hurricane_hourly_info.sql\")"
   ]
  },
  {
   "cell_type": "markdown",
   "id": "a13ced42",
   "metadata": {},
   "source": [
    "## Part 4: Visualizing the Data\n",
    "\n",
    "_A checklist of requirements to keep you on track. Remove this whole cell before submitting the project. The order of these tasks aren't necessarily the order in which they need to be done. It's okay to do them in an order that makes sense to you._\n",
    "\n",
    "* [ ] Create an appropriate visualization for the first query/question in part 3\n",
    "* [ ] Create a visualization that shows the average distance traveled per month (regardless of year - so group by each month). Include the 90% confidence interval around the mean in the visualization\n",
    "* [ ] Define three lat/long coordinate boxes around the three major New York airports: LGA, JFK, and EWR (you can use bboxfinder to help). Create a visualization that compares what day of the week was most popular for drop offs for each airport.\n",
    "* [ ] Create a heatmap of all hired trips over a map of the area. Consider using KeplerGL or another library that helps generate geospatial visualizations.\n",
    "* [ ] Create a scatter plot that compares tip amount versus distance.\n",
    "* [ ] Create another scatter plot that compares tip amount versus precipitation amount.\n",
    "* [ ] Come up with 3 questions on your own that can be answered based on the data in the 4 tables. Create at least one visualization to answer each question. At least one visualization should require data from at least 3 tables.\n",
    "\n",
    "_Be sure these cells are executed so that the visualizations are rendered when the notebook is submitted._"
   ]
  },
  {
   "cell_type": "markdown",
   "id": "6d9eef42",
   "metadata": {},
   "source": [
    "### Visualization N\n",
    "\n",
    "_Write some prose that tells the reader what you're about to do here._\n",
    "\n",
    "_Repeat for each visualization._\n",
    "\n",
    "_You don't have to query the data directly from the database. You can just re-use the pandas DataFrame that you created in Part 1._\n",
    "\n",
    "_The example below makes use of the `matplotlib` library. There are other libraries, including `pandas` built-in plotting library, kepler for geospatial data representation, `seaborn`, and others._"
   ]
  },
  {
   "cell_type": "code",
   "execution_count": null,
   "id": "0de8394c",
   "metadata": {},
   "outputs": [],
   "source": [
    "# use a more descriptive name for your function\n",
    "def plot_visual_n(dataframe):\n",
    "    figure, axes = plt.subplots(figsize=(20, 10))\n",
    "    \n",
    "    values = \"...\"  # use the dataframe to pull out values needed to plot\n",
    "    \n",
    "    # you may want to use matplotlib to plot your visualizations;\n",
    "    # there are also many other plot types (other \n",
    "    # than axes.plot) you can use\n",
    "    axes.plot(values, \"...\")\n",
    "    # there are other methods to use to label your axes, to style \n",
    "    # and set up axes labels, etc\n",
    "    axes.set_title(\"Some Descriptive Title\")\n",
    "    \n",
    "    plt.show()"
   ]
  },
  {
   "cell_type": "code",
   "execution_count": 251,
   "id": "bc1260a7",
   "metadata": {},
   "outputs": [
    {
     "data": {
      "image/png": "[encoded data removed]",
      "text/plain": [
       "<Figure size 432x288 with 1 Axes>"
      ]
     },
     "metadata": {
      "needs_background": "light"
     },
     "output_type": "display_data"
    }
   ],
   "source": [
    "# Question 1\n",
    "fig = plt.figure()\n",
    "ax = fig.add_axes([0,0,1,1])\n",
    "hour = []\n",
    "rides = []\n",
    "for tup in sorted(result):\n",
    "    hour.append(tup[0])\n",
    "    rides.append(tup[1])\n",
    "ax.bar(hour,rides)\n",
    "ax.set_ylabel('Number of Yellow Taxi Rides')\n",
    "ax.set_xlabel('Hours of the Day')\n",
    "ax.set_title('Number of Yellow Taxi Rides during Each Hours of the Day From Jan.01, 2009 to Jun.30, 2015')\n",
    "plt.show()"
   ]
  },
  {
   "cell_type": "code",
   "execution_count": 254,
   "id": "89e3fe78",
   "metadata": {},
   "outputs": [
    {
     "data": {
      "image/png": "[encoded data removed]",
      "text/plain": [
       "<Figure size 432x288 with 1 Axes>"
      ]
     },
     "metadata": {
      "needs_background": "light"
     },
     "output_type": "display_data"
    }
   ],
   "source": [
    "# Question 7.1\n",
    "# Create Scatter Plot between Average Hourly Precipitation \n",
    "# and Number of Hired Rides during the Hurricane Period from Part 3\n",
    "QUERY_7_1 = '''\n",
    "        SELECT substr((substr(hr.`DATE`, 1, 10) || ' ' || substr(hr.`DATE`, 12)), 1, 13) AS H,\n",
    "                t.c AS num_rides,\n",
    "                avg(hr.HourlyPrecipitation) AS avg_hr_preci,\n",
    "                avg(hr.HourlyWindSpeed) AS avg_hr_wind\n",
    "        FROM hourly_weather as hr\n",
    "        JOIN (\n",
    "        SELECT Hour,\n",
    "            COUNT(Hour) as c\n",
    "        FROM(\n",
    "        SELECT substr(a.pickup_datetime, 1, 13) AS Hour\n",
    "        FROM taxi_data AS a\n",
    "        WHERE a.pickup_datetime >= '2012-10-23 00:00:00'\n",
    "        AND a.pickup_datetime <= '2012-10-30 23:59:59'\n",
    "        AND a.trip_distance != 'None'\n",
    "        UNION ALL \n",
    "        SELECT substr(datetime(substr(b.pickup_datetime, 1, 19)), 1,13) AS Hour\n",
    "        FROM uber_data AS b\n",
    "        WHERE b.pickup_datetime >= '2012-10-23 00:00:00'\n",
    "        AND b.pickup_datetime <= '2012-10-30 23:59:59'\n",
    "        )\n",
    "        GROUP BY Hour\n",
    "        ) as t\n",
    "        ON H = Hour\n",
    "        WHERE substr(hr.`DATE`, 1, 10) || ' ' || substr(hr.`DATE`, 12) >= '2012-10-23 00:00:00'\n",
    "        AND substr(hr.`DATE`, 1, 10) || ' ' || substr(hr.`DATE`, 12) <= '2012-10-30 23:59:59'\n",
    "        GROUP BY H\n",
    "        '''\n",
    "answer = engine.execute(QUERY_7_1).fetchall()\n",
    "fig = plt.figure()\n",
    "ax = fig.add_axes([0,0,1,1])\n",
    "prec = []\n",
    "num_ride = []\n",
    "for tup in answer:\n",
    "    prec.append(tup[1])\n",
    "    num_ride.append(tup[2])\n",
    "plt.scatter(num_ride,prec)\n",
    "ax.set_ylabel('Hourly Average Precipitation')\n",
    "ax.set_xlabel('Number of Hired Rides during the Hour')\n",
    "ax.set_title('Number of Hired Rides during Each Hours V.S. Hourly Precipitation During the Hurricane Period')\n",
    "plt.show()"
   ]
  },
  {
   "cell_type": "code",
   "execution_count": 255,
   "id": "0e3b3cab",
   "metadata": {},
   "outputs": [
    {
     "data": {
      "image/png": "[encoded data removed]",
      "text/plain": [
       "<Figure size 432x288 with 1 Axes>"
      ]
     },
     "metadata": {
      "needs_background": "light"
     },
     "output_type": "display_data"
    }
   ],
   "source": [
    "# Question 7.2\n",
    "# Create Scatter Plot between Hourly Average Precipitation \n",
    "# and Hourly Average Windspeed during the Hurricane Period from Part 3\n",
    "QUERY_7_2 = '''\n",
    "        SELECT substr((substr(hr.`DATE`, 1, 10) || ' ' || substr(hr.`DATE`, 12)), 1, 13) AS H,\n",
    "                t.c AS num_rides,\n",
    "                avg(hr.HourlyPrecipitation) AS avg_hr_preci,\n",
    "                avg(hr.HourlyWindSpeed) AS avg_hr_wind\n",
    "        FROM hourly_weather as hr\n",
    "        JOIN (\n",
    "        SELECT Hour,\n",
    "            COUNT(Hour) as c\n",
    "        FROM(\n",
    "        SELECT substr(a.pickup_datetime, 1, 13) AS Hour\n",
    "        FROM taxi_data AS a\n",
    "        WHERE a.pickup_datetime >= '2012-10-23 00:00:00'\n",
    "        AND a.pickup_datetime <= '2012-10-30 23:59:59'\n",
    "        AND a.trip_distance != 'None'\n",
    "        UNION ALL \n",
    "        SELECT substr(datetime(substr(b.pickup_datetime, 1, 19)), 1,13) AS Hour\n",
    "        FROM uber_data AS b\n",
    "        WHERE b.pickup_datetime >= '2012-10-23 00:00:00'\n",
    "        AND b.pickup_datetime <= '2012-10-30 23:59:59'\n",
    "        )\n",
    "        GROUP BY Hour\n",
    "        ) as t\n",
    "        ON H = Hour\n",
    "        WHERE substr(hr.`DATE`, 1, 10) || ' ' || substr(hr.`DATE`, 12) >= '2012-10-23 00:00:00'\n",
    "        AND substr(hr.`DATE`, 1, 10) || ' ' || substr(hr.`DATE`, 12) <= '2012-10-30 23:59:59'\n",
    "        GROUP BY H\n",
    "        '''\n",
    "answer = engine.execute(QUERY_7_2).fetchall()\n",
    "fig = plt.figure()\n",
    "ax = fig.add_axes([0,0,1,1])\n",
    "prec_2 = []\n",
    "num_ride_2 = []\n",
    "for tup in answer:\n",
    "    prec_2.append(tup[3])\n",
    "    num_ride_2.append(tup[2])\n",
    "plt.scatter(prec_2,num_ride_2)\n",
    "ax.set_ylabel('Hourly Average Precipitation')\n",
    "ax.set_xlabel('Hourly Average Windspeed')\n",
    "ax.set_title('Hourly Average Windspeed V.S. Hourly Precipitation During the Hurricane Period')\n",
    "plt.show()"
   ]
  },
  {
   "cell_type": "code",
   "execution_count": 256,
   "id": "4612b711",
   "metadata": {},
   "outputs": [
    {
     "data": {
      "image/png": "[encoded data removed]",
      "text/plain": [
       "<Figure size 432x288 with 1 Axes>"
      ]
     },
     "metadata": {
      "needs_background": "light"
     },
     "output_type": "display_data"
    }
   ],
   "source": [
    "# Question 7.3\n",
    "# Create Scatter Plot between Daily Average Windspeed \n",
    "# and Daily Total Number of Hired Rides during 2014\n",
    "Q = '''\n",
    "        SELECT strftime ('%Y-%m-%d',datetime(substr(c.`DATE`, 1, 10))) AS d,\n",
    "            c.DailyAverageWindSpeed as WindSpeed,\n",
    "            ride.num_ride\n",
    "        FROM daily_weather as c\n",
    "        JOIN(\n",
    "        SELECT a_col,\n",
    "                count(a_col) as num_ride\n",
    "        FROM(\n",
    "        SELECT strftime('%Y-%m-%d', a.pickup_datetime) AS a_col\n",
    "        FROM taxi_data AS a\n",
    "        WHERE a.pickup_datetime >= '2014-01-01 00:00:00'\n",
    "        AND a.pickup_datetime <= '2014-12-31 23:59:59'\n",
    "        AND a.trip_distance != 'None'\n",
    "        UNION ALL \n",
    "        SELECT strftime ('%Y-%m-%d',datetime(substr(b.pickup_datetime, 1, 19))) AS a_col\n",
    "        FROM uber_data AS b\n",
    "        WHERE b.pickup_datetime >= '2014-01-01 00:00:00'\n",
    "        AND b.pickup_datetime <= '2014-12-31 23:59:59'\n",
    "        )\n",
    "        GROUP BY a_col\n",
    "        ) as ride\n",
    "        ON d == ride.a_col\n",
    "        WHERE d >= '2014-01-01 00:00:00'\n",
    "        AND d <= '2014-12-31 23:59:59'\n",
    "        GROUP BY d\n",
    "        ORDER BY d\n",
    "        '''\n",
    "answer_1 = engine.execute(Q).fetchall()\n",
    "fig = plt.figure()\n",
    "ax = fig.add_axes([0,0,1,1])\n",
    "wind = []\n",
    "num_ride_1 = []\n",
    "for tup in answer_1:\n",
    "    wind.append(tup[1])\n",
    "    num_ride_1.append(tup[2])\n",
    "plt.scatter(wind,num_ride_1)\n",
    "ax.set_ylabel('Daily Average Windspeed')\n",
    "ax.set_xlabel('Daily Number of Hired Rides')\n",
    "ax.set_title('Daily Average Windspeed V.S. Daily Number of Hired Rides During Year 2014')\n",
    "plt.show()"
   ]
  },
  {
   "cell_type": "code",
   "execution_count": null,
   "id": "3c63e845",
   "metadata": {},
   "outputs": [],
   "source": [
    "plot_visual_n(some_dataframe)"
   ]
  }
 ],
 "metadata": {
  "kernelspec": {
   "display_name": "Python 3",
   "language": "python",
   "name": "python3"
  },
  "language_info": {
   "codemirror_mode": {
    "name": "ipython",
    "version": 3
   },
   "file_extension": ".py",
   "mimetype": "text/x-python",
   "name": "python",
   "nbconvert_exporter": "python",
   "pygments_lexer": "ipython3",
   "version": "3.8.8"
  }
 },
 "nbformat": 4,
 "nbformat_minor": 5
}
